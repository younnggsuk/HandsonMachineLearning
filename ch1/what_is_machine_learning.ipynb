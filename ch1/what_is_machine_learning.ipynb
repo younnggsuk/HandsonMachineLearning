{
 "cells": [
  {
   "cell_type": "markdown",
   "metadata": {},
   "source": [
    "# What Is Machine Learning?\n",
    "\n",
    "머신러닝은 데이터로부터 학습할 수 있도록 컴퓨터를 프로그래밍하는 과학(및 예술)이다.\n",
    "\n",
    "조금 더 일반적인 정의는 다음과 같다:\n",
    "- 머신러닝은 명시적인 프로그래밍 없이 컴퓨터에게 학습하는 능력을 갖추게 하는 연구분야이다. (Arthur Samuel, 1959)\n",
    "\n",
    "엔지니어링 관점에서 보면 다음과 같다:\n",
    "- 만약, task T에 대한 performance P가 experience E로 부터 향상된다면, 컴퓨터 프로그램은 T와 P에 대해 E로 학습한다고 말한다. (Tom Mitchell, 1997)"
   ]
  }
 ],
 "metadata": {
  "kernelspec": {
   "display_name": "Python 3",
   "language": "python",
   "name": "python3"
  },
  "language_info": {
   "codemirror_mode": {
    "name": "ipython",
    "version": 3
   },
   "file_extension": ".py",
   "mimetype": "text/x-python",
   "name": "python",
   "nbconvert_exporter": "python",
   "pygments_lexer": "ipython3",
   "version": "3.7.6"
  }
 },
 "nbformat": 4,
 "nbformat_minor": 4
}
