{
 "cells": [
  {
   "cell_type": "markdown",
   "metadata": {},
   "source": [
    "# Why Use Machine Learning?\n",
    "\n",
    "Traditional approach와 Machine Learning Apporach로 스팸 필터를 만드는 경우를 비교해보자.\n",
    "\n",
    "## Traditional Approach\n",
    "1. 먼저, 스팸 이메일의 형태를 살펴본다. 발신자 이름, 이메일 내용, 제목에 자주 사용되는 단어 등 여러 패턴을 발견할 것이다.\n",
    "2. 발견한 패턴을 감지하는 알고리즘을 작성하고 이러한 패턴의 감지 횟수에 따라 스팸이라고 표시하는 프로그램을 만든다.\n",
    "3. 좋은 성능을 낼 때 까지, 1, 2의 과정을 반복하며 프로그램을 테스트한다.\n",
    "\n",
    "<br/>\n",
    "<img src=\"./images/traditional_approach.png\" alt=\"traditional_approach\" style=\"width:80%\">\n",
    "<br/>\n",
    "<center><i>Traditional Approach</i></center>\n",
    "<br/>\n",
    "\n",
    "이 경우 프로그램은 길고 복잡한 규칙을 가지게 될 것이며 관리가 어려울 것이다.\n",
    "\n",
    "## Machine Learning Approach\n",
    "머신러닝을 사용하면 스팸 메일에 자주 등장하는 단어, 구절의 패턴을 자동으로 학습할 것이다.\n",
    "\n",
    "<br/>\n",
    "<img src=\"./images/machine_learning_approach.png\" alt=\"machine_learning_approach\" style=\"width:80%\"> \n",
    "<br/>\n",
    "<center><i>Machine Learning Approach</i></center>\n",
    "<br/>\n",
    "\n",
    "이 경우, 프로그램은 짧아지고 관리하기가 편해진다. 또한, 훨씬 정확하다.\n",
    "\n",
    "게다가 스팸 메일의 패턴이 바뀌는 경우, 전통적인 방법에서는 직접 코드를 수정해주어야 하지만 머신러닝에서는 바뀐 패턴이 빈번해짐에 따라 바뀐 패턴이 학습이 되므로 자동화가 용이하다.\n",
    "\n",
    "<br/>\n",
    "<img src=\"./images/automatically_adapting_to_change.png\" alt=\"automatically_adapting_to_change\" style=\"width:80%\"> \n",
    "<br/>\n",
    "<center><i>Automatically adapting to change</i></center>"
   ]
  },
  {
   "cell_type": "markdown",
   "metadata": {},
   "source": [
    "## Data Mining\n",
    "\n",
    "머신러닝이 사람의 학습에 도움이 되는 경우도 있다. 데이터의 양이 매우 클 경우, 사람이 직접 데이터를 보고 어떠한 패턴을 찾기가 어려운 경우이다.\n",
    "\n",
    "이러한 경우에 특정 패턴을 찾기 위해 머신러닝 기술을 적용할 수 있는데, 이를 Data mining라고 한다.\n",
    "\n",
    "<br/>\n",
    "<img src=\"./images/machine_learning_can_help_humans_learn.png\" alt=\"machine_learning_can_help_humans_learn\" style=\"width:80%\"> \n",
    "<br/>\n",
    "<center><i>Machine Learning can help humans learn</i></center>"
   ]
  },
  {
   "cell_type": "markdown",
   "metadata": {},
   "source": [
    "요약하자면, 머신러닝은 다음과 같은 경우에 유용하다.\n",
    "- 문제에 대한 솔루션이 매우 많은 규칙과 수작업이 필요한 경우\n",
    "- 전통적인 프로그래밍 방법으로 좋은 솔루션을 얻기 어려운 복잡한 문제의 경우\n",
    "- 환경이 계속해서 변하는 경우\n",
    "- 복잡한 문제와 많은 데이터에서 insight을 얻기 위해서"
   ]
  }
 ],
 "metadata": {
  "kernelspec": {
   "display_name": "Python 3",
   "language": "python",
   "name": "python3"
  },
  "language_info": {
   "codemirror_mode": {
    "name": "ipython",
    "version": 3
   },
   "file_extension": ".py",
   "mimetype": "text/x-python",
   "name": "python",
   "nbconvert_exporter": "python",
   "pygments_lexer": "ipython3",
   "version": "3.7.6"
  }
 },
 "nbformat": 4,
 "nbformat_minor": 4
}
