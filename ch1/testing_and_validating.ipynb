{
 "cells": [
  {
   "cell_type": "markdown",
   "metadata": {},
   "source": [
    "# Testing and Validating\n",
    "\n",
    "모델이 일반화가 잘 되었는지를 확인하는 유일한 방법은 새로운 경우에 대해 동작시켜 보는 것이다. 하지만 제품화 후 제대로 동작하지 않는다면 문제가 될 수 있으므로 최선은 아니다.\n",
    "\n",
    "좋은 대안은 데이터를 training set과 test set 총 2개의 set으로 나누는 것이다.\n",
    "training set만을 사용해 모델을 학습시킨 후, test set에서 evaluate한다면 모델이 본적 없는 데이터에 대해서 잘 동작하는지를 평가할 수 있다.\n",
    "\n",
    "하지만 문제는 test set을 기준으로 계속해서 모델을 평가한다면, 점점 모델은 test set에 적응하게 된다는 것이다. 이는 다시 본적 없는 데이터에 대해 잘 동작하지 않을 수 있다는 것을 의미한다.(test set에 다시 overfit된다는 의미)\n",
    "\n",
    "이러한 문제를 해결하기 위한 일반적인 방법은 validation set을 추가로 두는 것이다. 이 방법은 training set에서 일정 부분을 validation set으로 분리한 후, 이를 통해 평가하며 모델을 튜닝하는 방법이다. 그리고 최적의 모델을 찾으면, training set과 validation set 모두를 사용해 학습시킨다.\n",
    "\n",
    "그리고 마지막으로 test set으로 모델의 성능(generalization error)을 최종 평가하는 것이다.\n",
    "\n",
    "<br/>\n",
    "<img src=\"./images/training_validation_testing.png\" alt=\"training_validation_testing\"  width=\"50%\"> \n",
    "<br/>"
   ]
  }
 ],
 "metadata": {
  "kernelspec": {
   "display_name": "Python 3",
   "language": "python",
   "name": "python3"
  },
  "language_info": {
   "codemirror_mode": {
    "name": "ipython",
    "version": 3
   },
   "file_extension": ".py",
   "mimetype": "text/x-python",
   "name": "python",
   "nbconvert_exporter": "python",
   "pygments_lexer": "ipython3",
   "version": "3.7.6"
  }
 },
 "nbformat": 4,
 "nbformat_minor": 4
}
