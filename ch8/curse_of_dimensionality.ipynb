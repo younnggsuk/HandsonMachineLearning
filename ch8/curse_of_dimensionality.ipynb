{
 "cells": [
  {
   "cell_type": "markdown",
   "metadata": {},
   "source": [
    "# 차원의 저주\n",
    "\n",
    "### 차원의저주\n",
    "차원의 저주란 많은 feature들로 인해 훈련 속도 및 좋은 솔루션을 찾기 어려워지는 문제를 의미한다. 이는 고차원 데이터셋의 경우, 매우 sparse할 위험이 있으므로 Overfitting이 일어날 위험이 커지기 때문이다."
   ]
  }
 ],
 "metadata": {
  "kernelspec": {
   "display_name": "Python 3",
   "language": "python",
   "name": "python3"
  },
  "language_info": {
   "codemirror_mode": {
    "name": "ipython",
    "version": 3
   },
   "file_extension": ".py",
   "mimetype": "text/x-python",
   "name": "python",
   "nbconvert_exporter": "python",
   "pygments_lexer": "ipython3",
   "version": "3.7.6"
  }
 },
 "nbformat": 4,
 "nbformat_minor": 4
}
