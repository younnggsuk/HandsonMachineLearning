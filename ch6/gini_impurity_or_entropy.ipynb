{
 "cells": [
  {
   "cell_type": "markdown",
   "metadata": {},
   "source": [
    "# Gini Impurity or Entropy?\n",
    "\n",
    "Default로는 Gini impurity가 설정되어 있지만, hyperparameter `criterion`을 `\"entropy\"`로 설정해 **entropy** impurity를 대신 사용할수도 있다.\n",
    "\n",
    "Entropy는 **information theory**에서 나오는 개념으로, 머신러닝에서는 impurity의 measure에 자주 사용된다. Data set이 한 class의 instance로만 구성된 경우, entropy는 0이다. 다음의 식은 $i$번째 node의 entropy의 정의이다.\n",
    "\n",
    "**Entropy**\n",
    "\n",
    "$H_i = -\\sum^n_{\\substack{k=1 \\\\ p_{i, k}\\neq 0}} p_{i, k} \\log_2\\big(p_{i, k}\\big)$\n",
    "\n",
    "\n",
    "앞의 예제에서 구현한 Decision Tree의 결과인 아래 그림에서, 이 정의를 사용해 계산해보자.\n",
    "\n",
    "depth 2, left node에서의 entropy는 다음과 같이 계산할 수 있다.\n",
    "\n",
    "$-\\dfrac{49}{54} \\log_2\\Big(\\dfrac{49}{54}\\Big) -\\dfrac{5}{54} \\log_2\\Big(\\dfrac{5}{54}\\Big) \\approx 0.445$\n",
    "\n",
    "\n",
    "<br/>\n",
    "<img src=\"./images/iris_tree.png\" alt=\"iris_tree\" width=\"70%\">\n",
    "<br/>\n"
   ]
  },
  {
   "cell_type": "markdown",
   "metadata": {},
   "source": [
    "그렇다면 Gini impurity와 entropy 중 어떤 것을 사용해야 할까?\n",
    "\n",
    "사실 두 measure는 실제로는 큰 차이가 없다. gini impurity는 계산 속도가 조금 더 빠르기 때문에 default로 사용하기 좋다. 하지만 만약, gini impurity와 entropy가 서로 다른 tree를 만들어 내는 경우에는 gini impurity는 빈번한 class를 tree의 한쪽 branch로 고립시키는 경향이 있는 반면, entropy는 더 balanced된 tree를 만드는 경향이 있다."
   ]
  }
 ],
 "metadata": {
  "kernelspec": {
   "display_name": "Python 3",
   "language": "python",
   "name": "python3"
  },
  "language_info": {
   "codemirror_mode": {
    "name": "ipython",
    "version": 3
   },
   "file_extension": ".py",
   "mimetype": "text/x-python",
   "name": "python",
   "nbconvert_exporter": "python",
   "pygments_lexer": "ipython3",
   "version": "3.7.6"
  }
 },
 "nbformat": 4,
 "nbformat_minor": 4
}
