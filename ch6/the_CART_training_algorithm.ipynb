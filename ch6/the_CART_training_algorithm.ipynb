{
 "cells": [
  {
   "cell_type": "markdown",
   "metadata": {},
   "source": [
    "# The CART Training Algorithm\n",
    "\n",
    "사이킷런은 Decision tree의 학습에 **Classification And Regression Tree (CART)**알고리즘을 사용한다.\n",
    "\n",
    "이 알고리즘은 먼저, 하나의 feature $k$와 threshold $t_k$(예를 들어, petal length $\\le$ 2.45cm)를 사용해 training set을 2개의 subset으로 나눈다. $k$와 $t_k$는 (크기에 따라 weighted된) 가장 pure한 subset으로 나눌 수 있는 쌍($k$, $t_k$)을 선택한다. 알고리즘이 minimize하는 cost function은 다음과 같다.\n",
    "\n",
    "**CART cost function for classification**\n",
    "\n",
    "$J(k, t_k) = \\dfrac{m_{\\text{left}}}{m}G_{\\text{left}} + \\dfrac{m_{\\text{right}}}{m}G_{\\text{right}}$\n",
    "\n",
    "$\\text{where}\\begin{equation} \\begin{cases}G_{\\text{left/right}} \\text{ measures the impurity of the left/right subset} \\\\ m_{\\text{left/right}} \\text{ is the number of instances in the left/right subset}\\end{cases} \\end{equation}$\n",
    "\n",
    "CART 알고리즘에 의해 2개로 나누어진 subset은 또 같은 방식으로 subset을 나누고 이와 같은 방식을 반복한다. 이는 maximum depth(hyperparameter `max_depth`)에 도달하거나, 나누어도 더이상 impurity가 감소하지 않을 때에 멈추게 된다. 몇가지 여러 hyperparameter(`min_samples_split`, `min_samples_leaf`, `min_weight_fraction`, `max_leaf_modes`)로 추가적인 stopping condition을 조절할 수 있다."
   ]
  }
 ],
 "metadata": {
  "kernelspec": {
   "display_name": "Python 3",
   "language": "python",
   "name": "python3"
  },
  "language_info": {
   "codemirror_mode": {
    "name": "ipython",
    "version": 3
   },
   "file_extension": ".py",
   "mimetype": "text/x-python",
   "name": "python",
   "nbconvert_exporter": "python",
   "pygments_lexer": "ipython3",
   "version": "3.7.6"
  }
 },
 "nbformat": 4,
 "nbformat_minor": 4
}
