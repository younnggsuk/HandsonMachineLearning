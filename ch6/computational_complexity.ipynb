{
 "cells": [
  {
   "cell_type": "markdown",
   "metadata": {},
   "source": [
    "# Computational Complexity\n",
    "\n",
    "Prediction을 위해서는 Decision Tree를 root node에서 leaf node까지 탐색해야한다. 일반적으로 Desicion Tree는 balanced하므로, 탐색을 위해서는 $O\\big(\\log_2(m)\\big)$($m$은 training instance의 수)개의 node를 거쳐야 한다. 각 node는 하나의 feature만을 검사하므로, 전체 prediction에 대한 complexity는 feature의 수와 무관하게 $O\\big(\\log_2(m)\\big)$가 된다. 따라서, large training set을 다룰 때에도 prediction이 매우 빠르다.\n",
    "\n",
    "학습시에는, 각 node에서 모든 training instance의 모든 feature를(또는 `max_features`가 설정되어 있다면 해당 수만큼) 비교하므로, training complexity는 $O\\big(n \\times m \\log_2(m)\\big)$이 된다. training set의 크기가 작을 경우에는 사이킷런은 data에 presorting을 적용해(`presort=True`) 속도를 향상시킬 수 있지만, 크기가 클 경우에는 상당히 느려진다."
   ]
  },
  {
   "cell_type": "code",
   "execution_count": null,
   "metadata": {},
   "outputs": [],
   "source": []
  }
 ],
 "metadata": {
  "kernelspec": {
   "display_name": "Python 3",
   "language": "python",
   "name": "python3"
  },
  "language_info": {
   "codemirror_mode": {
    "name": "ipython",
    "version": 3
   },
   "file_extension": ".py",
   "mimetype": "text/x-python",
   "name": "python",
   "nbconvert_exporter": "python",
   "pygments_lexer": "ipython3",
   "version": "3.7.6"
  }
 },
 "nbformat": 4,
 "nbformat_minor": 4
}
