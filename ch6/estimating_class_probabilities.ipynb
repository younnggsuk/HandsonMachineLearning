{
 "cells": [
  {
   "cell_type": "markdown",
   "metadata": {},
   "source": [
    "# Estimating Class Probabilities\n",
    "\n",
    "Decision Tree는 instance가 특정 class에 속할 확률을 estimate할 수도 있다.\n",
    "\n",
    "<br/>\n",
    "<img src=\"./images/iris_tree.png\" alt=\"iris_tree\" width=\"70%\">\n",
    "<br/>\n",
    "\n",
    "앞의 예제 결과인 위 그림에서 예를 들면, petal length가 5cm이고, petal width가 1.5cm인 instance의 경우, depth 2, left node이며 decision tree는 해당 확률 3개를 반환한다.\n",
    "- Iris-Setosa : $\\frac{0}{54} \\approx 0%$\n",
    "- Iris-Versicolor : $\\frac{49}{54} \\approx 90.7%$\n",
    "- Iris-Virginica : $\\frac{5}{54} \\approx 9.3%$\n",
    "\n",
    "다음의 코드는 확률을 출력하는 예제이다."
   ]
  },
  {
   "cell_type": "code",
   "execution_count": 1,
   "metadata": {},
   "outputs": [
    {
     "name": "stdout",
     "output_type": "stream",
     "text": [
      "[[0.         0.90740741 0.09259259]]\n",
      "[1]\n"
     ]
    }
   ],
   "source": [
    "from sklearn.datasets import load_iris\n",
    "from sklearn.tree import DecisionTreeClassifier\n",
    "\n",
    "iris = load_iris()\n",
    "X = iris.data[:, 2:]\n",
    "y = iris.target\n",
    "\n",
    "tree_clf = DecisionTreeClassifier(max_depth=2)\n",
    "tree_clf.fit(X, y)\n",
    "\n",
    "# 확률 출력\n",
    "print(tree_clf.predict_proba([[5, 1.5]]))\n",
    "\n",
    "# 가장 높은 확률이 해당 class로 prediction되는지 확인\n",
    "print(tree_clf.predict([[5, 1.5]]))"
   ]
  }
 ],
 "metadata": {
  "kernelspec": {
   "display_name": "Python 3",
   "language": "python",
   "name": "python3"
  },
  "language_info": {
   "codemirror_mode": {
    "name": "ipython",
    "version": 3
   },
   "file_extension": ".py",
   "mimetype": "text/x-python",
   "name": "python",
   "nbconvert_exporter": "python",
   "pygments_lexer": "ipython3",
   "version": "3.7.6"
  }
 },
 "nbformat": 4,
 "nbformat_minor": 4
}
