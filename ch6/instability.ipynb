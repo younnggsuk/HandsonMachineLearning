{
 "cells": [
  {
   "cell_type": "markdown",
   "metadata": {},
   "source": [
    "# Instability\n",
    "\n",
    "Decision tree는 이해하고 해석하기 쉬운 white box 모델이며, 여러 용도로 사용하기 편하며 성능도 뛰어나다. 하지만 계단 모양(축에 수직한 모양)의 decision boundary를 만들기 때문에 training set의 rotation에 민감하다는 문제가 있다.\n",
    "\n",
    "다음의 그림은 linearly separable한 단순한 dataset에 대한 예이다. 왼쪽의 경우, decision tree가 쉽게 split하지만, dataset을 45도 회전한 오른쪽의 경우, decision tree가 불필요하게 구불구불해졌으며, generalization이 잘 되지 않을 것이다.\n",
    "\n",
    "이 문제를 해결하기 위한 한가지 방법은 PCA 기법을 사용해 training data를 더 좋은 방향으로 회전시키는 것이 있다.\n",
    "\n",
    "<br/>\n",
    "<img src=\"./images/sensitivity_to_training_set_rotation.png\" alt=\"sensitivity_to_training_set_rotation\">\n",
    "<br/>"
   ]
  },
  {
   "cell_type": "markdown",
   "metadata": {},
   "source": [
    "더 일반적인 Decision tree의 주된 문제는 training data의 작은 변화에도 아주 민감하다는 것이다. 예를 들어, iris-dataset에서 가장 넓은 Iris-Versicolor instance(petal length=4.8, width=1.8)를 제거하고 학습시키게되면, 아래와 같은 결과를 얻게 된다. 이는 앞서 구현한 예제와 매우 다른 결과이다.\n",
    "\n",
    "<br/>\n",
    "<img src=\"./images/sensitivity_to_training_set_details.png\" alt=\"sensitivity_to_training_set_details\">\n",
    "<br/>"
   ]
  },
  {
   "cell_type": "markdown",
   "metadata": {},
   "source": [
    "다음 장에서 소개될 Random Forest는 많은 tree의 prediction을 평균내는 방법으로 위와 같은 instability 문제를 해결한다."
   ]
  }
 ],
 "metadata": {
  "kernelspec": {
   "display_name": "Python 3",
   "language": "python",
   "name": "python3"
  },
  "language_info": {
   "codemirror_mode": {
    "name": "ipython",
    "version": 3
   },
   "file_extension": ".py",
   "mimetype": "text/x-python",
   "name": "python",
   "nbconvert_exporter": "python",
   "pygments_lexer": "ipython3",
   "version": "3.7.6"
  }
 },
 "nbformat": 4,
 "nbformat_minor": 4
}
