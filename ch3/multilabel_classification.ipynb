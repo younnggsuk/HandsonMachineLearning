{
 "cells": [
  {
   "cell_type": "code",
   "execution_count": 1,
   "metadata": {},
   "outputs": [],
   "source": [
    "# 앞절에서 수행한 내용들\n",
    "\n",
    "import os\n",
    "import numpy as np\n",
    "from sklearn.datasets import fetch_openml\n",
    "\n",
    "dataset_root = os.path.join(os.getcwd(), 'datasets')\n",
    "if not os.path.isdir(dataset_root):\n",
    "    os.mkdir(dataset_root)\n",
    "    \n",
    "mnist = fetch_openml('mnist_784', version=1, data_home=dataset_root)\n",
    "X, y = mnist[\"data\"], mnist[\"target\"].astype(np.uint8)\n",
    "\n",
    "X_train, X_test, y_train, y_test = X[:60000], X[60000:], y[:60000], y[60000:]\n",
    "\n",
    "some_digit = X_train[10]\n",
    "some_digit_answer = y_train[10]"
   ]
  },
  {
   "cell_type": "markdown",
   "metadata": {},
   "source": [
    "# Multilabel Classification\n",
    "\n",
    "지금까지는 하나의 instance에 하나의 class만이 지정된 경우를 살펴보았지만, 한 instance에 여러 class를 지정해야 하는 경우가 있을 수 있다.\n",
    "\n",
    "예를 들어, face-recognizer가 Alice, Bob, Charlie의 3개의 class를 인식하도록 학습되어, 한 이미지에서 \\[1, 0, 1\\]로 output을 하는 것이다.(사진에 Alice와 Charlie만 있는 경우)\n",
    "\n",
    "위와 같이 여러 binary tag를 출력하는 classification system을 **multilabel classification** system이라고 한다."
   ]
  },
  {
   "cell_type": "markdown",
   "metadata": {},
   "source": [
    "간단한 예를 들어보자."
   ]
  },
  {
   "cell_type": "code",
   "execution_count": 2,
   "metadata": {},
   "outputs": [
    {
     "data": {
      "text/plain": [
       "KNeighborsClassifier(algorithm='auto', leaf_size=30, metric='minkowski',\n",
       "                     metric_params=None, n_jobs=None, n_neighbors=5, p=2,\n",
       "                     weights='uniform')"
      ]
     },
     "execution_count": 2,
     "metadata": {},
     "output_type": "execute_result"
    }
   ],
   "source": [
    "from sklearn.neighbors import KNeighborsClassifier\n",
    "\n",
    "y_train_large = (y_train >= 7)\n",
    "y_train_odd = (y_train % 2 == 1)\n",
    "y_multilabel = np.c_[y_train_large, y_train_odd]\n",
    "\n",
    "knn_clf = KNeighborsClassifier()\n",
    "knn_clf.fit(X_train, y_multilabel)"
   ]
  },
  {
   "cell_type": "markdown",
   "metadata": {},
   "source": [
    "`y_multilabel` array는 2개의 target label을 가진다.(7보다 같거나 큰지?, 홀수 인지?) 그리고 multilabel classification을 지원하는 `KNeighborClassifier`를 사용해 학습하였다.\n",
    "\n",
    "이제 prediction을 통해 output의 label이 어떻게 나오는지 확인해보자."
   ]
  },
  {
   "cell_type": "code",
   "execution_count": 3,
   "metadata": {},
   "outputs": [
    {
     "name": "stdout",
     "output_type": "stream",
     "text": [
      "3\n",
      "[[False  True]]\n"
     ]
    }
   ],
   "source": [
    "print(some_digit_answer)\n",
    "print(knn_clf.predict([some_digit]))"
   ]
  },
  {
   "cell_type": "markdown",
   "metadata": {},
   "source": [
    "많은 multilabel classification의 평가 방법이 있고, 올바른 성능 척도를 선택하는 것은 프로젝트에 따라 다르다. 예를 들어, 한가지 방법으로 각 label에 대해 $F_1$ score(또는 앞절에서 다룬 binary classifier의 다른 척도)를 측정한 후, 평균 점수를 내는 것이 있다.\n",
    "\n",
    "다음은 모든 label에 대한 $F_1$ score를 계산해 평균내는 것이다. "
   ]
  },
  {
   "cell_type": "code",
   "execution_count": 4,
   "metadata": {},
   "outputs": [
    {
     "name": "stdout",
     "output_type": "stream",
     "text": [
      "0.976410265560605\n"
     ]
    }
   ],
   "source": [
    "from sklearn.model_selection import cross_val_predict\n",
    "from sklearn.metrics import f1_score\n",
    "\n",
    "y_train_knn_pred = cross_val_predict(knn_clf, X_train, y_multilabel, cv=3)\n",
    "print(f1_score(y_multilabel, y_train_knn_pred, average='macro'))"
   ]
  },
  {
   "cell_type": "markdown",
   "metadata": {},
   "source": [
    "위 코드는 모든 label이 모두 중요하다고 가정한다. (`average='macro'`)\n",
    "\n",
    "만약, 각 label의 instance수가 차이가 나는 경우에는 해당 instance의 수 비율과 같도록 weight를 부여할 수도 있다. 이는 간단히 `average='weighted'`로 설정해주면 된다."
   ]
  }
 ],
 "metadata": {
  "kernelspec": {
   "display_name": "Python 3",
   "language": "python",
   "name": "python3"
  },
  "language_info": {
   "codemirror_mode": {
    "name": "ipython",
    "version": 3
   },
   "file_extension": ".py",
   "mimetype": "text/x-python",
   "name": "python",
   "nbconvert_exporter": "python",
   "pygments_lexer": "ipython3",
   "version": "3.7.6"
  }
 },
 "nbformat": 4,
 "nbformat_minor": 4
}
