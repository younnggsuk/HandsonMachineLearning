{
 "cells": [
  {
   "cell_type": "code",
   "execution_count": 1,
   "metadata": {},
   "outputs": [],
   "source": [
    "# 앞절에서 수행한 내용들\n",
    "\n",
    "import os\n",
    "import numpy as np\n",
    "from sklearn.datasets import fetch_openml\n",
    "\n",
    "dataset_root = os.path.join(os.getcwd(), 'datasets')\n",
    "if not os.path.isdir(dataset_root):\n",
    "    os.mkdir(dataset_root)\n",
    "\n",
    "    \n",
    "mnist = fetch_openml('mnist_784', version=1, data_home=dataset_root)\n",
    "X, y = mnist[\"data\"], mnist[\"target\"].astype(np.uint8)\n",
    "\n",
    "X_train, X_test, y_train, y_test = X[:60000], X[60000:], y[:60000], y[60000:]\n",
    "\n",
    "# 5면 True, 아니면 False로 변환\n",
    "y_train_5 = (y_train == 5)\n",
    "y_test_5 = (y_test == 5)"
   ]
  },
  {
   "cell_type": "code",
   "execution_count": null,
   "metadata": {
    "collapsed": true
   },
   "outputs": [],
   "source": [
    "from sklearn.linear_model import SGDClassifier\n",
    "\n",
    "sgd_clf = SGDClassifier(random_state=42)\n",
    "sgd_clf.fit(X_train, y_train_5)"
   ]
  },
  {
   "cell_type": "markdown",
   "metadata": {},
   "source": [
    "# Performance Measures\n",
    "\n",
    "classifier는 다양한 성능 측정이 가능하기 때문에 일반적으로 regressior보다 evaluation하기가 더욱 까다롭다."
   ]
  },
  {
   "cell_type": "markdown",
   "metadata": {},
   "source": [
    "#### 참고) Cross-Validation의 구현\n",
    "\n",
    "가끔 사이킷런의 `cross_val_score()`에 몇가지 조작을 더 추가하기 위해 직접 구현해야 할 때가 있다. 다음은 `cross_val_score()`와 같은 결과를 출력하는 코드이다."
   ]
  },
  {
   "cell_type": "code",
   "execution_count": 3,
   "metadata": {
    "scrolled": true
   },
   "outputs": [
    {
     "name": "stdout",
     "output_type": "stream",
     "text": [
      "0.9669\n",
      "0.91625\n",
      "0.96785\n"
     ]
    }
   ],
   "source": [
    "from sklearn.model_selection import StratifiedKFold\n",
    "from sklearn.base import clone\n",
    "\n",
    "skfolds = StratifiedKFold(n_splits=3, shuffle=True, random_state=42)\n",
    "\n",
    "for train_index, test_index in skfolds.split(X_train, y_train_5):\n",
    "    clone_clf = clone(sgd_clf)\n",
    "    X_train_folds = X_train[train_index]\n",
    "    y_train_folds = y_train_5[train_index]\n",
    "    X_test_fold = X_train[test_index]\n",
    "    y_test_fold = y_train_5[test_index]\n",
    "    \n",
    "    clone_clf.fit(X_train_folds, y_train_folds)\n",
    "    y_pred = clone_clf.predict(X_test_fold)\n",
    "    n_correct = sum(y_pred == y_test_fold)\n",
    "    print(n_correct / len(y_pred))"
   ]
  },
  {
   "cell_type": "markdown",
   "metadata": {},
   "source": [
    "## Measuring Accuracy Using Cross-Validation"
   ]
  },
  {
   "cell_type": "markdown",
   "metadata": {},
   "source": [
    "`cross_val_score()`를 통해 `SGDClassifier` 모델을 K-fold cross-validation을 사용해 evaluation해보자."
   ]
  },
  {
   "cell_type": "code",
   "execution_count": 4,
   "metadata": {},
   "outputs": [
    {
     "name": "stdout",
     "output_type": "stream",
     "text": [
      "[0.95035 0.96035 0.9604 ]\n"
     ]
    }
   ],
   "source": [
    "from sklearn.model_selection import cross_val_score\n",
    "\n",
    "print(cross_val_score(sgd_clf, X_train, y_train_5,\n",
    "                      cv=3, scoring=\"accuracy\"))"
   ]
  },
  {
   "cell_type": "markdown",
   "metadata": {},
   "source": [
    "위 결과를 보면 모든 fold에 대해 95%이상의 **accuracy**를 보인다. \n",
    "\n",
    "이는 상당히 좋은 결과지만, 만족하기 전에 다음의 단순한 classifier를 한번 보자."
   ]
  },
  {
   "cell_type": "code",
   "execution_count": 5,
   "metadata": {},
   "outputs": [],
   "source": [
    "from sklearn.base import BaseEstimator\n",
    "\n",
    "class Never5Classifier(BaseEstimator):\n",
    "    def fit(self, X, y=None):\n",
    "        pass\n",
    "    def predict(self, X):\n",
    "        # 그냥 모두 False라고 반환\n",
    "        return np.zeros((len(X), 1), dtype=bool)"
   ]
  },
  {
   "cell_type": "code",
   "execution_count": 6,
   "metadata": {},
   "outputs": [
    {
     "name": "stdout",
     "output_type": "stream",
     "text": [
      "[0.91125 0.90855 0.90915]\n"
     ]
    }
   ],
   "source": [
    "never_5_clf = Never5Classifier()\n",
    "print(cross_val_score(never_5_clf, X_train, y_train_5,\n",
    "                      cv=3, scoring='accuracy'))"
   ]
  },
  {
   "cell_type": "markdown",
   "metadata": {},
   "source": [
    "10%의 이미지가 5이기 때문에 모두 5가 아니라고 예측해도 90% 이상의 결과를 내는 것을 볼 수 있다.\n",
    "\n",
    "위의 결과는 classifier의 performance로 accuracy가 선호되지 않는 이유를 보여준다. 이는 특히 skewed dataset(class별로 불균형한 수의 data)의 경우에 더욱 그렇다."
   ]
  },
  {
   "cell_type": "markdown",
   "metadata": {},
   "source": [
    "## Confusion Matrix\n",
    "\n",
    "classifier의 performance evaluation에 더욱 좋은 방법은 **confusion matrix**이다.\n",
    "\n",
    "기본 아이디어는 class A의 instance가 class B로 분류되는 숫자를 세는 것이다. 예를 들어, 5를 3으로 헷갈린 경우의 수는 confusion matrix의 5행 3열 값을 보면 된다.\n",
    "\n",
    "comfustion matrix를 계산하기 위해서는 먼저, 실제 target과 비교를 위한 prediction set이 필요하다. 다음과 같이 `cross_val_predict()`로 이를 만들어보자."
   ]
  },
  {
   "cell_type": "code",
   "execution_count": 7,
   "metadata": {},
   "outputs": [],
   "source": [
    "from sklearn.model_selection import cross_val_predict\n",
    "\n",
    "y_train_pred = cross_val_predict(sgd_clf, X_train, y_train_5, cv=3)"
   ]
  },
  {
   "cell_type": "markdown",
   "metadata": {},
   "source": [
    "`cross_val_score()`처럼 `cross_val_predict()`도 K-fold cross-validation을 수행하며, 각 test fold에 대한 predictions을 반환한다.(각 instance 하나하나에 대한 prediction)"
   ]
  },
  {
   "cell_type": "markdown",
   "metadata": {},
   "source": [
    "이제 `confusion_matrix()`를 사용해 confusion matrix를 만들어보자."
   ]
  },
  {
   "cell_type": "code",
   "execution_count": 8,
   "metadata": {},
   "outputs": [
    {
     "name": "stdout",
     "output_type": "stream",
     "text": [
      "[[53892   687]\n",
      " [ 1891  3530]]\n"
     ]
    }
   ],
   "source": [
    "from sklearn.metrics import confusion_matrix\n",
    "\n",
    "print(confusion_matrix(y_train_5, y_train_pred))"
   ]
  },
  {
   "cell_type": "markdown",
   "metadata": {},
   "source": [
    "confusion matrix의 각 row와 column은 다음을 의미한다.\n",
    "- row : actual class\n",
    "- column : predicted class\n",
    "\n",
    "따라서, 여기서 만든 confusion matrix의 결과는 다음을 나타낸다.\n",
    "- 1st row : non-5 (**negative class**)\n",
    "    - 53892개가 non-5로 정확하게 분류됨 (**true negatives**)\n",
    "    - 687개가 정확하지 않게 분류됨 (**false positives**)\n",
    "- 2nd row : 5 (**positive class**)\n",
    "    - 1891개가 정확하지 않게 분류됨 (**false negatives**)\n",
    "    - 3530개가 정확하게 분류됨 (**true positives**)\n",
    "    \n",
    "완벽한 classifier는 true positives와 true negatives로만 구성된다.(다음과 같이 diagonal 성분만 0이 아닌 경우)"
   ]
  },
  {
   "cell_type": "code",
   "execution_count": 9,
   "metadata": {},
   "outputs": [
    {
     "name": "stdout",
     "output_type": "stream",
     "text": [
      "[[54579     0]\n",
      " [    0  5421]]\n"
     ]
    }
   ],
   "source": [
    "y_train_perfect_predictions = y_train_5\n",
    "print(confusion_matrix(y_train_5, y_train_perfect_predictions))"
   ]
  },
  {
   "cell_type": "markdown",
   "metadata": {},
   "source": [
    "positive prediction의 accuracy는 **precision**로 나타낸다.\n",
    "\n",
    "$precision = \\dfrac{TP}{TP+FP}$\n",
    "\n",
    "만약, 하나의 positive prediction만을 정확하게 분류한다면, precision은 100%가 될 것이다. 하지만 이는 classifier가 positive instance 외에 모든 것을 무시한다는 의미이다.\n",
    "\n",
    "따라서, precision은 보통 정확히 분류된 positive instance의 비율을 나타내는 **recall**과 함께 사용된다. 이는 *sensitivity* 또는 *true positive rate*라고도 불린다.\n",
    "\n",
    "$recall = \\dfrac{TP}{TP+FN}$\n",
    "\n",
    "<br/>\n",
    "<img src=\"./images/confusion_matrix.png\" alt=\"confusion_matrix\" width=\"100%\">\n",
    "<br/>"
   ]
  },
  {
   "cell_type": "markdown",
   "metadata": {},
   "source": [
    "## Precision and Recall\n",
    "\n",
    "사이킷런은 precision과 recall을 계산해주는 함수를 제공한다."
   ]
  },
  {
   "cell_type": "code",
   "execution_count": 10,
   "metadata": {},
   "outputs": [
    {
     "name": "stdout",
     "output_type": "stream",
     "text": [
      "0.8370879772350012\n",
      "0.6511713705958311\n"
     ]
    }
   ],
   "source": [
    "from sklearn.metrics import precision_score, recall_score\n",
    "\n",
    "print(precision_score(y_train_5, y_train_pred))\n",
    "print(recall_score(y_train_5, y_train_pred))"
   ]
  },
  {
   "cell_type": "markdown",
   "metadata": {},
   "source": [
    "위 결과는 5라고 예측했을 때, 실제 5일 확률은 83.7%정도이며, 5를 제대로 감지할 확률은 65.1%라는 것을 보여준다."
   ]
  },
  {
   "cell_type": "markdown",
   "metadata": {},
   "source": [
    "precision과 recall을 합쳐 하나의 척도로 나타내면 종종 편리할 때가 있다. 이는 특히 2개의 classifier를 비교하는 경우에 유용하다.\n",
    " \n",
    "**$F_1$ score**는 precision과 recall의 harmonic mean을 의미한다. regular mean은 모든 값에 equality를 주는 반면, harmonic mean은 낮은 값에 더 큰 weight를 주는 형태이다.\n",
    "\n",
    "이는 recall과 precision 두 값 모두가 높아야만 높은 $F_1$ score가 얻어지도록 한다.\n",
    "\n",
    "$F_1 = \\dfrac{2}{\\dfrac{1}{precision}+\\dfrac{1}{recall}} = 2 \\times \\dfrac{precision \\times recall}{precision+recall} = \\dfrac{TP}{TP+\\dfrac{FN+FP}{2}}$"
   ]
  },
  {
   "cell_type": "markdown",
   "metadata": {},
   "source": [
    "$F_1$ score는 `f1_score()`를 통해 계산할 수 있다."
   ]
  },
  {
   "cell_type": "code",
   "execution_count": 11,
   "metadata": {},
   "outputs": [
    {
     "name": "stdout",
     "output_type": "stream",
     "text": [
      "0.7325171197343846\n"
     ]
    }
   ],
   "source": [
    "from sklearn.metrics import f1_score\n",
    "print(f1_score(y_train_5, y_train_pred))"
   ]
  },
  {
   "cell_type": "markdown",
   "metadata": {},
   "source": [
    "## Precision / Recall Tradeoff\n",
    "\n",
    "tradeoff를 이해하기 위해 `SGDClassifier`가 어떻게 classification 결정을 내리는지 살펴보자. \n",
    "\n",
    "`SGDClassifier`는 각 instance에 대해 *decision function*에 기반해서 score를 계산한다. 만약, 점수가 threshold보다 높을 경우, instance에 positive class를 할당하고 그게 아니라면, negative class를 할당한다.\n",
    "\n",
    "<br/>\n",
    "<img src=\"./images/decision_threshold_and_precision_recall_tradeoff.png\" alt=\"decision_threshold_and_precision_recall_tradeoff\" width=\"100%\">\n",
    "<br/>\n",
    "\n",
    "위 그림에 이를 적용해보자.\n",
    "\n",
    "threshold가 중앙의 화살표인 경우, 5개의 positive prediction 중 4개가 맞았으므로, precision은 80%($\\frac{4}{5}$)이고, 총 6개의 5중에서 4개의 5만 감지하였으므로, recall은 67%($\\frac{4}{6}$)가 된다.\n",
    "\n",
    "이번에는 threshold를 오른쪽으로 이동시켜보자. 3개의 positive prediction 중에서 3개가 맞았으므로, prediction은 100%($\\frac{3}{3}$)이지만, 총 6개의 5중에서 3개의 5만 감지하였으므로, recall은 50%($\\frac{3}{6}$)가 된다. 따라서, 앞의 경우보다 precision은 증가하였지만, recall은 감소하였다.\n",
    "\n",
    "마찬가지로, threshold를 왼쪽으로 이동시키면, precision은 감소하고, recall은 증가할 것이다."
   ]
  },
  {
   "cell_type": "markdown",
   "metadata": {},
   "source": [
    "사이킷런은 threshold를 직접 설정하는 기능은 제공하지 않지만, decision score를 계산해주는 `decision_function()`을 제공한다.\n",
    "\n",
    "`predict()`대신 위 `decision_function()`를 호출해 instance에 대한 score를 구하고, 이 score에 기반해서 원하는 threshold score에 따라 직접 prediction을 하면 된다.\n",
    "\n",
    "다음은 이를 수행하는 예제이다."
   ]
  },
  {
   "cell_type": "code",
   "execution_count": 12,
   "metadata": {},
   "outputs": [
    {
     "name": "stdout",
     "output_type": "stream",
     "text": [
      "[2164.22030239]\n",
      "[ True]\n"
     ]
    }
   ],
   "source": [
    "some_digit = X_train[0]\n",
    "\n",
    "y_scores = sgd_clf.decision_function([some_digit])\n",
    "print(y_scores)\n",
    "\n",
    "threshold = 0\n",
    "y_some_digit_pred = (y_scores > threshold)\n",
    "print(y_some_digit_pred)"
   ]
  },
  {
   "cell_type": "markdown",
   "metadata": {},
   "source": [
    "threshold가 prediction score보다 낮은 0이므로, `predict()`와 같은 결과이다.\n",
    "\n",
    "이제 threshold를 높여보자."
   ]
  },
  {
   "cell_type": "code",
   "execution_count": 13,
   "metadata": {},
   "outputs": [
    {
     "name": "stdout",
     "output_type": "stream",
     "text": [
      "[False]\n"
     ]
    }
   ],
   "source": [
    "threshold = 8000\n",
    "y_some_digit_pred = (y_scores > threshold)\n",
    "print(y_some_digit_pred)"
   ]
  },
  {
   "cell_type": "markdown",
   "metadata": {},
   "source": [
    "위 결과는 threshold를 높이면 recall이 감소한다는 것을 보여준다."
   ]
  },
  {
   "cell_type": "markdown",
   "metadata": {},
   "source": [
    "그렇다면 threshold는 어떻게 결정해야할까? 이를 위해서는 먼저 `cross_val_predict()`를 사용해 training set의 모든 instance에 대한 decision score를 계산해야한다."
   ]
  },
  {
   "cell_type": "code",
   "execution_count": 14,
   "metadata": {},
   "outputs": [],
   "source": [
    "y_scores = cross_val_predict(sgd_clf, X_train, y_train_5, cv=3,\n",
    "                             method='decision_function')"
   ]
  },
  {
   "cell_type": "markdown",
   "metadata": {},
   "source": [
    "이제 위 점수에 가능한 모든 threshold에 대해 precision과 recall을 계산해보자.\n",
    "이는 다음과 같이 `precision_recall_curve()`로 수행할 수 있다."
   ]
  },
  {
   "cell_type": "code",
   "execution_count": 15,
   "metadata": {},
   "outputs": [],
   "source": [
    "from sklearn.metrics import precision_recall_curve\n",
    "\n",
    "precisions, recalls, thresholds = precision_recall_curve(y_train_5, y_scores)"
   ]
  },
  {
   "cell_type": "markdown",
   "metadata": {},
   "source": [
    "이를 Matplotlib를 사용해 그려보면 다음과 같다."
   ]
  },
  {
   "cell_type": "code",
   "execution_count": 16,
   "metadata": {},
   "outputs": [
    {
     "data": {
      "image/png": "[encoded data removed]",
      "text/plain": [
       "<Figure size 576x288 with 1 Axes>"
      ]
     },
     "metadata": {
      "needs_background": "light"
     },
     "output_type": "display_data"
    }
   ],
   "source": [
    "import matplotlib.pyplot as plt\n",
    "\n",
    "def plot_precision_recall_vs_threshold(precisions, recalls, thresholds):\n",
    "    plt.plot(thresholds, precisions[:-1], \"b--\", label=\"Precision\")\n",
    "    plt.plot(thresholds, recalls[:-1], \"g-\", label=\"Recall\")\n",
    "    plt.legend(), plt.tight_layout(), plt.grid()\n",
    "\n",
    "    \n",
    "plt.figure(figsize=(8, 4))\n",
    "plot_precision_recall_vs_threshold(precisions, recalls, thresholds)\n",
    "plt.show()"
   ]
  },
  {
   "cell_type": "markdown",
   "metadata": {},
   "source": [
    "좋은 precision/recall tradeoff를 선택하기 위한 다른 방법으로는 recall에 대한 precision을 바로 그려보는 것이 있다."
   ]
  },
  {
   "cell_type": "code",
   "execution_count": 17,
   "metadata": {},
   "outputs": [
    {
     "data": {
      "image/png": "[encoded data removed]",
      "text/plain": [
       "<Figure size 432x288 with 1 Axes>"
      ]
     },
     "metadata": {
      "needs_background": "light"
     },
     "output_type": "display_data"
    }
   ],
   "source": [
    "def plot_precision_against_recall(precisions, recalls):\n",
    "    plt.plot(recalls[:-1], precisions[:-1], \"b-\")\n",
    "    plt.xlabel(\"Recall\"), plt.ylabel(\"Precision\")\n",
    "    plt.tight_layout(), plt.grid()\n",
    "\n",
    "    \n",
    "plot_precision_against_recall(precisions, recalls)\n",
    "plt.show()"
   ]
  },
  {
   "cell_type": "markdown",
   "metadata": {},
   "source": [
    "이제 위의 두 그래프와 함께 프로젝트에 따라 threshold를 결정하면 된다.\n",
    "\n",
    "예를 들어, 90%의 precision으로 결정했다고 하자. \n",
    "\n",
    "첫번째 그래프에 따라 약 4000정도의 threshold를 사용하면 된다. 더 정확한 값은 다음과 같이 90%의 precision을 갖는 가장 낮은 threshold 값을 찾으면 된다."
   ]
  },
  {
   "cell_type": "code",
   "execution_count": 18,
   "metadata": {},
   "outputs": [
    {
     "name": "stdout",
     "output_type": "stream",
     "text": [
      "3370.0194991439557\n"
     ]
    }
   ],
   "source": [
    "threshold_90_precision = thresholds[np.argmax(precisions >= 0.90)]\n",
    "print(threshold_90_precision)"
   ]
  },
  {
   "cell_type": "markdown",
   "metadata": {},
   "source": [
    "따라서, 정확히는 3370의 threshold가 90%의 precision 지점이라는 것을 알 수 있다.\n",
    "\n",
    "training set에 대한 prediction을 하기 위해서는, classifier의 `predict()` 대신에 다음과 같이 실행하면 된다."
   ]
  },
  {
   "cell_type": "code",
   "execution_count": 19,
   "metadata": {},
   "outputs": [
    {
     "name": "stdout",
     "output_type": "stream",
     "text": [
      "[False False False ...  True False False]\n"
     ]
    }
   ],
   "source": [
    "y_train_pred_90 = (y_scores >= threshold_90_precision)\n",
    "print(y_train_pred_90)"
   ]
  },
  {
   "cell_type": "markdown",
   "metadata": {},
   "source": [
    "precision과 recall을 확인해보자."
   ]
  },
  {
   "cell_type": "code",
   "execution_count": 20,
   "metadata": {
    "scrolled": true
   },
   "outputs": [
    {
     "name": "stdout",
     "output_type": "stream",
     "text": [
      "0.9000345901072293\n",
      "0.4799852425751706\n"
     ]
    }
   ],
   "source": [
    "print(precision_score(y_train_5, y_train_pred_90))\n",
    "print(recall_score(y_train_5, y_train_pred_90))"
   ]
  },
  {
   "cell_type": "markdown",
   "metadata": {},
   "source": [
    "이제 90%의 precision을 가지는 classifier를 사용할 수 있게 되었다"
   ]
  },
  {
   "cell_type": "markdown",
   "metadata": {},
   "source": [
    "## The ROC Curve\n",
    "\n",
    "binary classifier에서 앞의 두 그래프와 함께 일반적으로 사용되는 또 하나는 ROC curve이다.\n",
    "\n",
    "**ROC(receiver operating characteristic)** curve는 **FPR(false positive rate)**에 대한 **TPR(true positive rate, recall)**를 나타낸다. \n",
    "\n",
    "- FPR\n",
    "    - positive로 잘못 분류된 negative instance의 비율\n",
    "    - $FPR = \\dfrac{FP}{TN+FP} = 1-TNR = 1-specificity$\n",
    "- TNR\n",
    "    - negative로 정확히 분류된 negative instance의 비율\n",
    "    - *specificity* 라고도 부름\n",
    "    - $TNR = \\dfrac{TN}{TN+FP}$\n",
    "    \n",
    "따라서, ROC curve는 sensitivity(recall) vs 1-specificity를 plot하는 것이다."
   ]
  },
  {
   "cell_type": "markdown",
   "metadata": {},
   "source": [
    "ROC curve를 plot하기 위해서는 먼저 TPR와 FPR를 여러 threshold 값에 대해 계산해야 한다. 이는 `roc_curve()`로 다음과 같이 수행할 수 있다."
   ]
  },
  {
   "cell_type": "code",
   "execution_count": 21,
   "metadata": {},
   "outputs": [],
   "source": [
    "from sklearn.metrics import roc_curve\n",
    "\n",
    "fpr, tpr, thresholds = roc_curve(y_train_5, y_scores)"
   ]
  },
  {
   "cell_type": "markdown",
   "metadata": {},
   "source": [
    "그 후, Matplotlib를 사용해 FPR에 대한 TPR을 plot한다."
   ]
  },
  {
   "cell_type": "code",
   "execution_count": 22,
   "metadata": {},
   "outputs": [
    {
     "data": {
      "image/png": "[encoded data removed]",
      "text/plain": [
       "<Figure size 432x288 with 1 Axes>"
      ]
     },
     "metadata": {
      "needs_background": "light"
     },
     "output_type": "display_data"
    }
   ],
   "source": [
    "def plot_roc_curve(fpr, tpr, label=None):\n",
    "    plt.plot(fpr, tpr, linewidth=2, label=label)\n",
    "    plt.plot([0, 1], [0, 1], 'k--') # 대각 점선\n",
    "    plt.xlabel(\"False Positive Rate\")\n",
    "    plt.ylabel(\"True Positive Rate (Recall)\")\n",
    "    plt.tight_layout(), plt.grid()\n",
    "\n",
    "    \n",
    "plot_roc_curve(fpr, tpr)\n",
    "plt.show()"
   ]
  },
  {
   "cell_type": "markdown",
   "metadata": {},
   "source": [
    "ROC curve에도 높은 recall(TPR)은 FPR을 증가시키는 tradeoff가 있다.\n",
    "\n",
    "위 그래프의 대각 점선은 purely random classifier를 의미하며 점선에서 왼쪽 상단으로 멀어질 수록 좋은 성능의 classifier를 의미한다."
   ]
  },
  {
   "cell_type": "markdown",
   "metadata": {},
   "source": [
    "ROC curve에서 classifier를 비교하는 한 방법은 AUC(area under the curve)를 측정하는 것이다.\n",
    "\n",
    "perfect classifier는 ROC AUC가 1이고, purely random classifier는 ROC AUC가 0.5이다. 사이킷런은 ROC AUC를 계산하는 함수를 제공한다."
   ]
  },
  {
   "cell_type": "code",
   "execution_count": 23,
   "metadata": {},
   "outputs": [
    {
     "name": "stdout",
     "output_type": "stream",
     "text": [
      "0.9604938554008616\n"
     ]
    }
   ],
   "source": [
    "from sklearn.metrics import roc_auc_score\n",
    "\n",
    "print(roc_auc_score(y_train_5, y_scores))"
   ]
  },
  {
   "cell_type": "markdown",
   "metadata": {},
   "source": [
    "`RandomForestClassifier`를 학습시켜 `SGDClassifier`와 ROC curve 및 ROC AUC score를 비교해보자.\n",
    "\n",
    "먼저, 각 instance에 대한 score를 계산해야 하는데 RandomForestClassifier에는 `decision_function()`이 없으므로, 대신에 `predict_proba()`를 사용한다.\n",
    "\n",
    "`predict_proba()`는 instance별 row와 class별 column으로 이루어진 array에 해당 instance의 주어진 class를 가질 확률을 반환한다."
   ]
  },
  {
   "cell_type": "code",
   "execution_count": 24,
   "metadata": {},
   "outputs": [
    {
     "name": "stdout",
     "output_type": "stream",
     "text": [
      "[[0.11 0.89]\n",
      " [0.99 0.01]\n",
      " [0.96 0.04]\n",
      " ...\n",
      " [0.02 0.98]\n",
      " [0.92 0.08]\n",
      " [0.94 0.06]]\n"
     ]
    }
   ],
   "source": [
    "from sklearn.ensemble import RandomForestClassifier\n",
    "\n",
    "forest_clf = RandomForestClassifier(random_state=42)\n",
    "y_probas_forest = cross_val_predict(forest_clf, X_train, y_train_5, cv=3,\n",
    "                                    method=\"predict_proba\")\n",
    "\n",
    "print(y_probas_forest)"
   ]
  },
  {
   "cell_type": "markdown",
   "metadata": {},
   "source": [
    "하지만 확률이 아닌 score가 필요하므로, positive class의 확률을 score로 사용한다."
   ]
  },
  {
   "cell_type": "code",
   "execution_count": 25,
   "metadata": {},
   "outputs": [],
   "source": [
    "y_scores_forest = y_probas_forest[:, 1]\n",
    "fpr_forest, tpr_forest, thresholds_forest = roc_curve(y_train_5, y_scores_forest)"
   ]
  },
  {
   "cell_type": "markdown",
   "metadata": {},
   "source": [
    "이제 ROC curve를 그려보자."
   ]
  },
  {
   "cell_type": "code",
   "execution_count": 26,
   "metadata": {},
   "outputs": [
    {
     "data": {
      "image/png": "[encoded data removed]",
      "text/plain": [
       "<Figure size 432x288 with 1 Axes>"
      ]
     },
     "metadata": {
      "needs_background": "light"
     },
     "output_type": "display_data"
    }
   ],
   "source": [
    "plt.plot(fpr, tpr, \"b:\", label=\"SGD\")\n",
    "plot_roc_curve(fpr_forest, tpr_forest, label=\"Random Forest\")\n",
    "plt.legend()\n",
    "plt.show()"
   ]
  },
  {
   "cell_type": "markdown",
   "metadata": {},
   "source": [
    "Random Forest의 ROC curve가 좌상단에 더 가까우므로, SGD보다 더욱 좋다는 것을 알 수 있다. \n",
    "\n",
    "ROC AUC score도 다음과 같이 훨씬 좋다는 것을 알 수 있다."
   ]
  },
  {
   "cell_type": "code",
   "execution_count": 27,
   "metadata": {},
   "outputs": [
    {
     "name": "stdout",
     "output_type": "stream",
     "text": [
      "SGD\t\t: 0.9604938554008616\n",
      "Random Forest\t: 0.9983436731328145\n"
     ]
    }
   ],
   "source": [
    "print(f\"SGD\\t\\t: {roc_auc_score(y_train_5, y_scores)}\")\n",
    "print(f\"Random Forest\\t: {roc_auc_score(y_train_5, y_scores_forest)}\")"
   ]
  }
 ],
 "metadata": {
  "kernelspec": {
   "display_name": "Python 3",
   "language": "python",
   "name": "python3"
  },
  "language_info": {
   "codemirror_mode": {
    "name": "ipython",
    "version": 3
   },
   "file_extension": ".py",
   "mimetype": "text/x-python",
   "name": "python",
   "nbconvert_exporter": "python",
   "pygments_lexer": "ipython3",
   "version": "3.7.6"
  }
 },
 "nbformat": 4,
 "nbformat_minor": 4
}
