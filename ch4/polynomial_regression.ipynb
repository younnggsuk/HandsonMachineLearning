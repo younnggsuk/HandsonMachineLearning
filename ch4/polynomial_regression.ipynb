{
 "cells": [
  {
   "cell_type": "markdown",
   "metadata": {},
   "source": [
    "# Polynomial Regression\n",
    "\n",
    "**Polynomial Regression**은 non-linear data를 linear model로 학습시키는 방법으로, 각 feature에 n-제곱을 취한 값을 새로운 feature로 추가해서 학습을 시키는 방식이다.\n",
    "\n",
    "예제를 통해 살펴보자. 먼저, quadratic equation($y=ax^2+bx+c$)에 기반한 non-linear data를 생성한다."
   ]
  },
  {
   "cell_type": "code",
   "execution_count": 1,
   "metadata": {},
   "outputs": [
    {
     "data": {
      "image/png": "[encoded data removed]",
      "text/plain": [
       "<Figure size 432x288 with 1 Axes>"
      ]
     },
     "metadata": {
      "needs_background": "light"
     },
     "output_type": "display_data"
    }
   ],
   "source": [
    "import numpy as np\n",
    "import matplotlib.pyplot as plt\n",
    "\n",
    "m = 100\n",
    "X = 6 * np.random.rand(m, 1) - 3\n",
    "y = 0.5 * X**2 + X + 2 + np.random.randn(m, 1)\n",
    "\n",
    "plt.plot(X, y, 'b.')\n",
    "plt.axis([-3, 3, 0, 10])\n",
    "plt.show()"
   ]
  },
  {
   "cell_type": "markdown",
   "metadata": {},
   "source": [
    "이제 사이킷런의 `PolynomialFeatures` class를 사용해 제곱을 취한 새로운 feature를 추가하자.(2nd-degree polynomial)"
   ]
  },
  {
   "cell_type": "code",
   "execution_count": 2,
   "metadata": {},
   "outputs": [
    {
     "name": "stdout",
     "output_type": "stream",
     "text": [
      "[1.57528573]\n",
      "[1.57528573 2.48152514]\n"
     ]
    }
   ],
   "source": [
    "from sklearn.preprocessing import PolynomialFeatures\n",
    "poly_features = PolynomialFeatures(degree=2, include_bias=False)\n",
    "X_poly = poly_features.fit_transform(X)\n",
    "\n",
    "print(X[0])\n",
    "print(X_poly[0])"
   ]
  },
  {
   "cell_type": "markdown",
   "metadata": {},
   "source": [
    "위 결과를 통해 `X_poly`가 `X`와 `X`의 제곱 값을 가지는 것을 확인하였다. 이제 `LinearRegression`을 통해 학습시켜보자."
   ]
  },
  {
   "cell_type": "code",
   "execution_count": 3,
   "metadata": {
    "scrolled": true
   },
   "outputs": [
    {
     "data": {
      "image/png": "[encoded data removed]",
      "text/plain": [
       "<Figure size 432x288 with 1 Axes>"
      ]
     },
     "metadata": {
      "needs_background": "light"
     },
     "output_type": "display_data"
    },
    {
     "name": "stdout",
     "output_type": "stream",
     "text": [
      "[2.26814426] [[1.02250551 0.43979969]]\n"
     ]
    }
   ],
   "source": [
    "from sklearn.linear_model import LinearRegression\n",
    "\n",
    "lin_reg = LinearRegression()\n",
    "lin_reg.fit(X_poly, y)\n",
    "\n",
    "X_new = np.expand_dims(np.linspace(-3, 3, 100), 1)\n",
    "X_new_poly = poly_features.fit_transform(X_new)\n",
    "y_pred = lin_reg.predict(X_new_poly)\n",
    "\n",
    "plt.plot(X, y, 'b.')\n",
    "plt.plot(X_new, y_pred, 'r')\n",
    "plt.axis([-3, 3, 0, 10])\n",
    "plt.show()\n",
    "\n",
    "print(lin_reg.intercept_, lin_reg.coef_)"
   ]
  },
  {
   "cell_type": "markdown",
   "metadata": {},
   "source": [
    "모델이 예측한 식은 $\\hat{y} = 0.439x_1^2 + 1.02x_1 + 2.26$이고, 원래 식은 $y = 0.5x_1^2 + 1.0 x_1 + 2.0 + \\text{Gaussian noise}$ 였으므로 나쁘지 않은 결과이다."
   ]
  },
  {
   "cell_type": "markdown",
   "metadata": {},
   "source": [
    "여러 개의 feature가 있을 때, Polynomial Regression은 feature들간의 관계를 찾을 수 있다.(Linear Regression은 수행하지 못함) 이는 `PolynomialFeature`가 모든 feature의 combination들을 주어진 degree까지 추가하기 때문이다.\n",
    "\n",
    "예를 들어 feature가 a와 b이고, `PolynomialFeature`에 `degree=3`을 전달하면, $a^2, a^3, b^2, b^3$뿐만 아니라, $ab, a^2b, ab^2$도 추가한다."
   ]
  }
 ],
 "metadata": {
  "kernelspec": {
   "display_name": "Python 3",
   "language": "python",
   "name": "python3"
  },
  "language_info": {
   "codemirror_mode": {
    "name": "ipython",
    "version": 3
   },
   "file_extension": ".py",
   "mimetype": "text/x-python",
   "name": "python",
   "nbconvert_exporter": "python",
   "pygments_lexer": "ipython3",
   "version": "3.7.6"
  }
 },
 "nbformat": 4,
 "nbformat_minor": 4
}
