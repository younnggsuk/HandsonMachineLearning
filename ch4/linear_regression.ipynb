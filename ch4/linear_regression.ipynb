{
 "cells": [
  {
   "cell_type": "markdown",
   "metadata": {},
   "source": [
    "# Linear Regresssion\n",
    "\n",
    "Linear model은 단순히 input feature들의 weighted sum과 bias라고 부르는 상수항을 더해서 prediction을 만들어낸다.\n",
    "\n",
    "**Linear Regression model prediction**\n",
    "\n",
    "$\\hat{y} = \\theta_0 + \\theta_1x_1 + \\theta_2x_2 + \\cdots + \\theta_nx_n$\n",
    "- $\\hat{y}$ : predicted value\n",
    "- $n$ : feature의 수\n",
    "- $x_i$ : i번째 feature 값\n",
    "- $\\theta_j$ : j번째 model parameter ($\\theta_0$ : bias, $\\theta_1$ ~ $\\theta_j$ : feature weights)\n",
    "\n",
    "위 식은 다음과 같이 vectorized form으로 더 간결하게 나타낼 수 있다.\n",
    "\n",
    "**Linear Regression model prediction (vectorized form)**\n",
    "\n",
    "$\\hat{y} = h_{\\mathbf{\\theta}}(\\mathbf{x}) = \\mathbf{\\theta} \\cdot \\mathbf{x} = \\mathbf{\\theta^T} \\mathbf{x}$\n",
    "- $\\mathbf{\\theta}$ : model의 parameter vector ($\\theta_0$ ~ $\\theta_j$)\n",
    "- $\\mathbf{x}$ : instance의 feature vector ($x_0$ ~ $x_n$), ($x_0$는 항상 1)\n",
    "- $\\mathbf{\\theta} \\cdot \\mathbf{x}$ : $\\mathbf{\\theta}$와 $\\mathbf{x}$의 dot product ($\\theta_0x_0 + \\theta_1x_1 + \\theta_2x_2 + \\cdots + \\theta_nx_n$)\n",
    "- $h_\\mathbf{\\theta}$ : hypothesis function\n",
    "- 머신러닝에서, vector들은 column vector로 보기 때문에, $\\mathbf{\\theta}$와 $\\mathbf{x}$의 dot product는 $\\mathbf{\\theta^T}$와 $\\mathbf{x}$의 matrix muliplication과 같다.\n",
    "\n",
    "머신러닝에서, vector들은 column vector로 보기 때문에, $\\mathbf{\\theta}$와 $\\mathbf{x}$의 dot product는 $\\mathbf{\\theta^T}$와 $\\mathbf{x}$의 matrix muliplication과 같다. 따라서, 이 책에서는 $\\mathbf{\\theta^T} \\mathbf{x}$의 형태로 표기한다.\n",
    "\n",
    "이제 linear regression model을 정의했으므로, 학습을 위한 performance measure를 정해야 한다.\n",
    "\n",
    "linear regression model에서는, RMSE가 일반적으로 사용되지만 여기서는 단순한 MSE를 살펴보자. RMSE는 MSE에 root를 취한 것이므로, MSE를 최소화 하는 $\\mathbf{\\theta}$를 찾는 것도 RMSE와 같은 결과를 가져온다.\n",
    "\n",
    "Training set $\\mathbf{X}$에 대한 linear regression hypothesis $h_\\mathbf{\\theta}$의 MSE는 다음과 같다.\n",
    "\n",
    "**MSE cost function for a Linear Regression model**\n",
    "\n",
    "$MSE(\\mathbf{X}, h_\\mathbf{\\theta}) = \\dfrac{1}{m}\\sum\\limits^m_{i=1}\\Big(\\mathbf{\\theta^T}\\mathbf{x}^{(i)} - y^{(i)}\\Big)^2$"
   ]
  },
  {
   "cell_type": "markdown",
   "metadata": {},
   "source": [
    "## The Normal Equation\n",
    "\n",
    "cost function을 최소화하는 $\\mathbf{\\theta}$를 바로 찾을 수 있는 수학 공식이 있는데 이를 Normal Equation이라고 한다.\n",
    "\n",
    "**Normal Equation**\n",
    "\n",
    "$\\hat{\\mathbf{\\theta}} = \\big( \\mathbf{X}^T \\mathbf{X} \\big)^{-1} \\mathbf{X}^T \\mathbf{y}$\n",
    "- $\\hat{\\mathbf{\\theta}}$ : cost function을 최소화하는 $\\mathbf{\\theta}$\n",
    "- $\\mathbf{y}$ : target value ($y^{(1)}$ ~ $y^{(m)}$)"
   ]
  },
  {
   "cell_type": "markdown",
   "metadata": {},
   "source": [
    "위의 equation을 테스트해보기 위해 linear한 데이터를 만들어보자."
   ]
  },
  {
   "cell_type": "code",
   "execution_count": 1,
   "metadata": {},
   "outputs": [
    {
     "data": {
      "image/png": "[encoded data removed]",
      "text/plain": [
       "<Figure size 432x288 with 1 Axes>"
      ]
     },
     "metadata": {
      "needs_background": "light"
     },
     "output_type": "display_data"
    }
   ],
   "source": [
    "import numpy as np\n",
    "import matplotlib.pyplot as plt\n",
    "\n",
    "X = 2 * np.random.rand(100, 1)\n",
    "y = 4 + 3 * X + np.random.randn(100, 1)\n",
    "\n",
    "plt.plot(X, y, 'b.')\n",
    "plt.axis([0, 2, 0, 15])\n",
    "plt.show()"
   ]
  },
  {
   "cell_type": "markdown",
   "metadata": {},
   "source": [
    "이제 Normal Equation으로 $\\hat{\\mathbf{\\theta}}$를 계산해보자."
   ]
  },
  {
   "cell_type": "code",
   "execution_count": 2,
   "metadata": {},
   "outputs": [],
   "source": [
    "X_b = np.c_[np.ones((100, 1)), X] # x0=1을 각 instance에 추가(x0 column 추가)\n",
    "theta_best = np.dot(np.linalg.inv(np.dot(X_b.T, X_b)), np.dot(X_b.T, y))"
   ]
  },
  {
   "cell_type": "markdown",
   "metadata": {},
   "source": [
    "우리가 생성한 데이터의 실제 함수는 $y = 4 + 3x_1 + $Gaussian noise이다. 어떤 값이 나왔는지 확인해보자."
   ]
  },
  {
   "cell_type": "code",
   "execution_count": 3,
   "metadata": {},
   "outputs": [
    {
     "name": "stdout",
     "output_type": "stream",
     "text": [
      "[[4.21764144]\n",
      " [2.83277339]]\n"
     ]
    }
   ],
   "source": [
    "print(theta_best)"
   ]
  },
  {
   "cell_type": "markdown",
   "metadata": {},
   "source": [
    "정답인 $\\theta_0 = 4, \\theta_1 = 3$이 아니라 $\\theta_0 = 4.21764144, \\theta_1 = 2.83277339$를 얻었다. 큰 차이가 나지는 않지만 noise로 인해 원래 식의 정확한 parameter는 얻지 못하였다.\n",
    "\n",
    "이제 $\\hat{\\mathbf{\\theta}}$으로 prediction을 해보자."
   ]
  },
  {
   "cell_type": "code",
   "execution_count": 4,
   "metadata": {},
   "outputs": [
    {
     "name": "stdout",
     "output_type": "stream",
     "text": [
      "[[4.21764144]\n",
      " [9.88318822]]\n"
     ]
    }
   ],
   "source": [
    "X_new = np.array([[0], [2]])\n",
    "X_new_b = np.c_[np.ones((2, 1)), X_new]\n",
    "\n",
    "y_pred = X_new_b.dot(theta_best)\n",
    "print(y_pred)"
   ]
  },
  {
   "cell_type": "code",
   "execution_count": 5,
   "metadata": {
    "scrolled": true
   },
   "outputs": [
    {
     "data": {
      "image/png": "[encoded data removed]",
      "text/plain": [
       "<Figure size 432x288 with 1 Axes>"
      ]
     },
     "metadata": {
      "needs_background": "light"
     },
     "output_type": "display_data"
    }
   ],
   "source": [
    "plt.plot(X_new, y_pred, \"r-\")\n",
    "plt.plot(X, y, \"b.\")\n",
    "plt.axis([0, 2, 0, 15])\n",
    "plt.show()"
   ]
  },
  {
   "cell_type": "markdown",
   "metadata": {},
   "source": [
    "위의 Normal Equation을 사용한 Linear Regression을 사이킷런으로 수행하면 아주 간단하다."
   ]
  },
  {
   "cell_type": "code",
   "execution_count": 6,
   "metadata": {},
   "outputs": [
    {
     "name": "stdout",
     "output_type": "stream",
     "text": [
      "bias: [4.21764144], weights: [[2.83277339]]\n",
      "\n",
      "prediction:\n",
      "[[4.21764144]\n",
      " [9.88318822]]\n"
     ]
    }
   ],
   "source": [
    "from sklearn.linear_model import LinearRegression\n",
    "\n",
    "lin_reg = LinearRegression()\n",
    "lin_reg.fit(X, y)\n",
    "# inctercept_ : bias term\n",
    "# coef_       : weights\n",
    "print(f\"bias: {lin_reg.intercept_}, weights: {lin_reg.coef_}\")\n",
    "print('')\n",
    "print(f\"prediction:\\n{lin_reg.predict(X_new)}\")"
   ]
  },
  {
   "cell_type": "markdown",
   "metadata": {},
   "source": [
    "사이킷런의 `LinearRegression`class는 `scipy.linalg.lstsq()`에 기반한다.(least squares, 최소제곱법)\n",
    "\n",
    "이는 다음과 같이 직접 호출할수도 있다."
   ]
  },
  {
   "cell_type": "code",
   "execution_count": 7,
   "metadata": {},
   "outputs": [
    {
     "name": "stdout",
     "output_type": "stream",
     "text": [
      "[[4.21764144]\n",
      " [2.83277339]]\n"
     ]
    }
   ],
   "source": [
    "theta_best_svd, residuals, rank, s = np.linalg.lstsq(X_b, y, rcond=1e-6)\n",
    "print(theta_best_svd)"
   ]
  },
  {
   "cell_type": "markdown",
   "metadata": {},
   "source": [
    "위 함수는 $\\hat{\\mathbf{\\theta}} = \\mathbf{X^+y}$를 계산하며, 여기서 $\\mathbf{X^+}$는 $\\mathbf{X}$의 pseudoinverse를 의미한다.(Moore-Penrose inverse)\n",
    "\n",
    "pseudoinverse는 `np.linalg.pinv()`를 통해 계산할 수 있다."
   ]
  },
  {
   "cell_type": "code",
   "execution_count": 8,
   "metadata": {},
   "outputs": [
    {
     "name": "stdout",
     "output_type": "stream",
     "text": [
      "[[4.21764144]\n",
      " [2.83277339]]\n"
     ]
    }
   ],
   "source": [
    "print(np.linalg.pinv(X_b).dot(y))"
   ]
  },
  {
   "cell_type": "markdown",
   "metadata": {},
   "source": [
    "pseudoinverse는 Singular Valuse Decompostion(SVD)를 통해 계산되며 이는 Normal Equation보다 효율적이다. 또한, Normal Equation은 not invertable(singular case)한 경우에는 동작하지 않지만, pseudoinverse는 항상 정의될 수 있다."
   ]
  },
  {
   "cell_type": "markdown",
   "metadata": {},
   "source": [
    "## Computational Complexity\n",
    "\n",
    "Normal Equation은 $\\mathbf{X}^T \\mathbf{X}$의 inverse를 계산하는데, 이는 n개의 feature가 있을 때, (n+1) $\\times$ (n+1) 크기의 행렬이며 inverse의 computational complexity는 일반적으로 $O(n^{2.4})$에서 $O(n^{3})$이다. 따라서, feature가 2배가 되면, 시간은 $n^{2.4}=5.3$에서 $n^{3}=8$배가 된다.\n",
    "\n",
    "사이킷런의 `Linear Regression`에서 사용하는 SVD 방법은 $O(n^2)$이다. 따라서, feature가 2배가 되면, 시간은 $n^2=4$배가 된다.\n",
    "\n",
    "또한, Normal Equation이나 다른 방법을 사용해 Linear Regression model을 일단 한번 학습시키고 나면, prediction은 매우 빨리 수행된다. computational complexity가 instance의 수에 linear하므로 instance가 2배가 되면, 2배의 시간이 걸리게 된다."
   ]
  }
 ],
 "metadata": {
  "kernelspec": {
   "display_name": "Python 3",
   "language": "python",
   "name": "python3"
  },
  "language_info": {
   "codemirror_mode": {
    "name": "ipython",
    "version": 3
   },
   "file_extension": ".py",
   "mimetype": "text/x-python",
   "name": "python",
   "nbconvert_exporter": "python",
   "pygments_lexer": "ipython3",
   "version": "3.7.6"
  }
 },
 "nbformat": 4,
 "nbformat_minor": 4
}
