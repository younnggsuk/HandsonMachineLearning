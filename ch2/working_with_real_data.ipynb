{
 "cells": [
  {
   "cell_type": "markdown",
   "metadata": {},
   "source": [
    "# Working with Real Data\n",
    "\n",
    "머신러닝을 공부한다면, 실제 데이터를 경험하는 것이 좋다.\n",
    "\n",
    "다음은 데이터를 얻을 수 있는 몇가지 사이트들이다.\n",
    "\n",
    "- 유명한 공개 데이터 저장소:\n",
    "    - UC Irvine Machine Learning Repository\n",
    "    - Kaggle datasets\n",
    "    - Amazon’s AWS datasets\n",
    "- 공개 데이터 저장소가 나열된 Meta portals\n",
    "    - http://dataportals.org/\n",
    "    - http://opendatamonitor.eu/\n",
    "    - http://quandl.com/\n",
    "- 공개 데이터 저장소가 나열된 다른 페이지들\n",
    "    - Wikipedia’s list of Machine Learning datasets\n",
    "    - Quora.com question\n",
    "    - Datasets subreddit\n",
    "    \n",
    "이 챕터에서는, StatLib repository에서 California Housing Prices dataset을 사용한다. 이 데이터셋은 1990년 캘리포니아 인구조사에 기반한다.\n",
    "\n",
    "<br/>\n",
    "<img src=\"./images/california_housing_prices.png\" alt=\"california_housing_prices\">\n",
    "<br/>"
   ]
  }
 ],
 "metadata": {
  "kernelspec": {
   "display_name": "Python 3",
   "language": "python",
   "name": "python3"
  },
  "language_info": {
   "codemirror_mode": {
    "name": "ipython",
    "version": 3
   },
   "file_extension": ".py",
   "mimetype": "text/x-python",
   "name": "python",
   "nbconvert_exporter": "python",
   "pygments_lexer": "ipython3",
   "version": "3.7.6"
  }
 },
 "nbformat": 4,
 "nbformat_minor": 4
}
