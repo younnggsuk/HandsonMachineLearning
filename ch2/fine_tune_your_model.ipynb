{
 "cells": [
  {
   "cell_type": "markdown",
   "metadata": {},
   "source": [
    "# Fine-Tune your Model\n",
    "\n",
    "잘 동작하는 몇가지 모델을 선정했다면, 이제 finetuning을 할 차례이다.\n",
    "\n",
    "먼저, 앞 절에서 수행한 내용을 통해 데이터를 준비한다."
   ]
  },
  {
   "cell_type": "code",
   "execution_count": 1,
   "metadata": {},
   "outputs": [],
   "source": [
    "import os\n",
    "import numpy as np\n",
    "import pandas as pd\n",
    "from sklearn.model_selection import StratifiedShuffleSplit\n",
    "\n",
    "dataset_root = os.path.join(os.getcwd(), \"datasets\")\n",
    "housing_path = os.path.join(dataset_root, \"housing\")\n",
    "\n",
    "def load_housing_data(housing_path=housing_path):\n",
    "    csv_path = os.path.join(housing_path, \"housing.csv\")\n",
    "    return pd.read_csv(csv_path)\n",
    "\n",
    "\n",
    "housing = load_housing_data()\n",
    "housing[\"income_cat\"] = np.ceil(housing[\"median_income\"] / 1.5)\n",
    "housing[\"income_cat\"].where(housing[\"income_cat\"] < 5, 5.0, inplace=True)\n",
    "\n",
    "split = StratifiedShuffleSplit(n_splits=1,\n",
    "                               test_size=0.2,\n",
    "                               random_state=42)\n",
    "\n",
    "for train_index, test_index in split.split(housing, housing[\"income_cat\"]):\n",
    "    strat_train_set = housing.loc[train_index]\n",
    "    strat_test_set = housing.loc[test_index]\n",
    "    \n",
    "\n",
    "for set_ in (strat_train_set, strat_test_set):\n",
    "    set_.drop(\"income_cat\", axis=1, inplace=True)"
   ]
  },
  {
   "cell_type": "code",
   "execution_count": 2,
   "metadata": {},
   "outputs": [],
   "source": [
    "housing = strat_train_set.drop(\"median_house_value\", axis=1)\n",
    "housing_labels = strat_train_set[\"median_house_value\"].copy()\n",
    "\n",
    "housing_num = housing.drop(\"ocean_proximity\", axis=1)\n",
    "housing_cat = housing[[\"ocean_proximity\"]]"
   ]
  },
  {
   "cell_type": "code",
   "execution_count": 3,
   "metadata": {},
   "outputs": [],
   "source": [
    "from sklearn.base import BaseEstimator, TransformerMixin\n",
    "\n",
    "rooms_idx, bedrooms_idx, population_idx, households_idx = 3, 4, 5, 6\n",
    "\n",
    "class CombinedFeaturesAdder(BaseEstimator, TransformerMixin):\n",
    "    def __init__(self, add_bedrooms_per_room=True):\n",
    "        self.add_bedrooms_per_room = add_bedrooms_per_room\n",
    "    \n",
    "    def fit(self, X, y=None):\n",
    "        # Nothing else to do\n",
    "        return self\n",
    "    \n",
    "    def transform(self, X, y=None):\n",
    "        rooms_per_household = X[:, rooms_idx]/X[:, households_idx]\n",
    "        population_per_household = X[:, population_idx]/X[:, households_idx]\n",
    "        # bedrooms_per_room은 선택\n",
    "        if self.add_bedrooms_per_room:\n",
    "            bedrooms_per_room = X[:, bedrooms_idx]/X[:, rooms_idx]\n",
    "            return np.c_[X,\n",
    "                         rooms_per_household,\n",
    "                         population_per_household,\n",
    "                         bedrooms_per_room]\n",
    "        else:\n",
    "            return np.c_[X,\n",
    "                         rooms_per_household,\n",
    "                         population_per_household]"
   ]
  },
  {
   "cell_type": "code",
   "execution_count": 4,
   "metadata": {},
   "outputs": [],
   "source": [
    "from sklearn.impute import SimpleImputer\n",
    "from sklearn.preprocessing import StandardScaler\n",
    "from sklearn.pipeline import Pipeline\n",
    "\n",
    "num_pipeline = Pipeline([\n",
    "    ('imputer', SimpleImputer(strategy='median')),\n",
    "    ('features_adder', CombinedFeaturesAdder()),\n",
    "    ('std_scaler', StandardScaler())\n",
    "])"
   ]
  },
  {
   "cell_type": "code",
   "execution_count": 5,
   "metadata": {},
   "outputs": [],
   "source": [
    "from sklearn.preprocessing import OneHotEncoder\n",
    "from sklearn.compose import ColumnTransformer\n",
    "\n",
    "num_features = list(housing_num)\n",
    "cat_features = [\"ocean_proximity\"]\n",
    "\n",
    "full_pipeline = ColumnTransformer([\n",
    "    (\"num\", num_pipeline, num_features),\n",
    "    (\"cat\", OneHotEncoder(), cat_features),\n",
    "])"
   ]
  },
  {
   "cell_type": "code",
   "execution_count": 6,
   "metadata": {},
   "outputs": [],
   "source": [
    "housing_prepared = full_pipeline.fit_transform(housing)"
   ]
  },
  {
   "cell_type": "markdown",
   "metadata": {},
   "source": [
    "## Grid Search\n",
    "좋은 hyperparameter의 조합을 하나하나 직접 찾는 것은 매우 지루하며 시간이 많이 드는 작업이다. \n",
    "\n",
    "사이킷런의 `GridSearchCV`는 이를 수월하게 해준다. 실험하고자 하는 hyperparameter와 그 값을 지정해주기만 하면, 모든 가능한 조합들을 cross-validation을 통해 평가할 수 있다.\n",
    "\n",
    "또한, `GridSearchCV`의 `refit` parameter를 `True`(기본 설정 값)로 하면 가장 좋은 estimator를 찾은 후, 이를 전체 training set(validation 포함)으로 학습시켜준다.\n",
    "\n",
    "다음 코드는 `param_grid`의 첫번째 dict에서 3x4, 두번째 dict에서 3x2, 총 18가지 조합에서 5-fold cross validation(`cv=5`)를 수행한다. (이전에 만들어 두었던 `add_bedrooms_per_room`와 같은 hyperparameter의 조합도 가능함)"
   ]
  },
  {
   "cell_type": "code",
   "execution_count": 7,
   "metadata": {},
   "outputs": [
    {
     "data": {
      "text/plain": [
       "GridSearchCV(cv=5, error_score=nan,\n",
       "             estimator=RandomForestRegressor(bootstrap=True, ccp_alpha=0.0,\n",
       "                                             criterion='mse', max_depth=None,\n",
       "                                             max_features='auto',\n",
       "                                             max_leaf_nodes=None,\n",
       "                                             max_samples=None,\n",
       "                                             min_impurity_decrease=0.0,\n",
       "                                             min_impurity_split=None,\n",
       "                                             min_samples_leaf=1,\n",
       "                                             min_samples_split=2,\n",
       "                                             min_weight_fraction_leaf=0.0,\n",
       "                                             n_estimators=100, n_jobs=None,\n",
       "                                             oob_score=False, random_state=None,\n",
       "                                             verbose=0, warm_start=False),\n",
       "             iid='deprecated', n_jobs=None,\n",
       "             param_grid=[{'max_features': [2, 4, 6, 8],\n",
       "                          'n_estimators': [3, 10, 30]},\n",
       "                         {'bootstrap': [False], 'max_features': [2, 3, 4],\n",
       "                          'n_estimators': [3, 10]}],\n",
       "             pre_dispatch='2*n_jobs', refit=True, return_train_score=True,\n",
       "             scoring='neg_mean_squared_error', verbose=0)"
      ]
     },
     "execution_count": 7,
     "metadata": {},
     "output_type": "execute_result"
    }
   ],
   "source": [
    "from sklearn.ensemble import RandomForestRegressor\n",
    "from sklearn.model_selection import GridSearchCV\n",
    "\n",
    "forest_reg = RandomForestRegressor()\n",
    "\n",
    "param_grid = [\n",
    "    {'n_estimators':[3, 10, 30], 'max_features':[2, 4, 6, 8]},\n",
    "    {'bootstrap':[False], 'n_estimators':[3, 10], 'max_features':[2, 3, 4]}\n",
    "]\n",
    "\n",
    "grid_search = GridSearchCV(forest_reg, param_grid, cv=5,\n",
    "                           scoring='neg_mean_squared_error',\n",
    "                           return_train_score=True)\n",
    "\n",
    "grid_search.fit(housing_prepared, housing_labels)"
   ]
  },
  {
   "cell_type": "markdown",
   "metadata": {},
   "source": [
    "가장 좋은 성능을 낸 hyperparameter 조합은 다음과 같이 확인할 수 있다."
   ]
  },
  {
   "cell_type": "code",
   "execution_count": 8,
   "metadata": {},
   "outputs": [
    {
     "name": "stdout",
     "output_type": "stream",
     "text": [
      "{'max_features': 8, 'n_estimators': 30}\n"
     ]
    }
   ],
   "source": [
    "print(grid_search.best_params_)"
   ]
  },
  {
   "cell_type": "markdown",
   "metadata": {},
   "source": [
    "위 결과를 보면, 8과 30으로 설정한 hyperparameter에서 최대값이 나왔으므로, 더 큰 값을 통해 학습시키면 성능이 증가될 것이라고 유추할 수 있다."
   ]
  },
  {
   "cell_type": "markdown",
   "metadata": {},
   "source": [
    "가장 좋은 성능을 낸 estimator를 직접 확인하는 방법은 다음과 같다."
   ]
  },
  {
   "cell_type": "code",
   "execution_count": 9,
   "metadata": {},
   "outputs": [
    {
     "name": "stdout",
     "output_type": "stream",
     "text": [
      "RandomForestRegressor(bootstrap=True, ccp_alpha=0.0, criterion='mse',\n",
      "                      max_depth=None, max_features=8, max_leaf_nodes=None,\n",
      "                      max_samples=None, min_impurity_decrease=0.0,\n",
      "                      min_impurity_split=None, min_samples_leaf=1,\n",
      "                      min_samples_split=2, min_weight_fraction_leaf=0.0,\n",
      "                      n_estimators=30, n_jobs=None, oob_score=False,\n",
      "                      random_state=None, verbose=0, warm_start=False)\n"
     ]
    }
   ],
   "source": [
    "print(grid_search.best_estimator_)"
   ]
  },
  {
   "cell_type": "markdown",
   "metadata": {},
   "source": [
    "수행한 각 hyperparameter별 evaluation score는 다음과 같이 확인할 수 있다."
   ]
  },
  {
   "cell_type": "code",
   "execution_count": 10,
   "metadata": {
    "scrolled": true
   },
   "outputs": [
    {
     "name": "stdout",
     "output_type": "stream",
     "text": [
      "64123.16731648048 {'max_features': 2, 'n_estimators': 3}\n",
      "55701.499298824536 {'max_features': 2, 'n_estimators': 10}\n",
      "52908.593584518494 {'max_features': 2, 'n_estimators': 30}\n",
      "60748.307794323 {'max_features': 4, 'n_estimators': 3}\n",
      "53156.74278987194 {'max_features': 4, 'n_estimators': 10}\n",
      "50335.364272163184 {'max_features': 4, 'n_estimators': 30}\n",
      "59275.986714357074 {'max_features': 6, 'n_estimators': 3}\n",
      "52088.74922050507 {'max_features': 6, 'n_estimators': 10}\n",
      "50199.49793554348 {'max_features': 6, 'n_estimators': 30}\n",
      "59298.90878833885 {'max_features': 8, 'n_estimators': 3}\n",
      "52463.44930223852 {'max_features': 8, 'n_estimators': 10}\n",
      "50160.65052584281 {'max_features': 8, 'n_estimators': 30}\n",
      "62924.011201053596 {'bootstrap': False, 'max_features': 2, 'n_estimators': 3}\n",
      "54527.90119816551 {'bootstrap': False, 'max_features': 2, 'n_estimators': 10}\n",
      "59865.923981941 {'bootstrap': False, 'max_features': 3, 'n_estimators': 3}\n",
      "52844.40251717208 {'bootstrap': False, 'max_features': 3, 'n_estimators': 10}\n",
      "58406.706410598024 {'bootstrap': False, 'max_features': 4, 'n_estimators': 3}\n",
      "51602.89425555502 {'bootstrap': False, 'max_features': 4, 'n_estimators': 10}\n"
     ]
    }
   ],
   "source": [
    "cvres = grid_search.cv_results_\n",
    "for mean_score, params in zip(cvres[\"mean_test_score\"], cvres[\"params\"]):\n",
    "    print(np.sqrt(-mean_score), params)"
   ]
  },
  {
   "cell_type": "markdown",
   "metadata": {},
   "source": [
    "## Randomized Search\n",
    "\n",
    "Randomized Search는 hyperparameter의 무작위 조합으로 탐색하는 방법이다. 이는 hyperparameter의 **search space**가 클 경우(특히, regularization과 같이 연속적인 값의 space인 경우)에 사용하는 것이 좋다.\n",
    "\n",
    "사이킷런의 `RandomizedSearchCV`를 통해 수행할 수 있다."
   ]
  },
  {
   "cell_type": "markdown",
   "metadata": {},
   "source": [
    "## Ensemble Methods\n",
    "\n",
    "Ensemble은 여러 모델을 조합하는 방법이다. 이는 단일 모델보다 좋은 성능을 내는 경우가 많으며 특히 각 모델이 아주 다른 형태의 error를 출력하는 경우에 좋다."
   ]
  },
  {
   "cell_type": "markdown",
   "metadata": {},
   "source": [
    "## Analyze Best Models and Their Errors\n",
    "\n",
    "좋은 성능의 모델을 분석해보면, 문제에 대한 좋은 insight를 얻을 수 있다. \n",
    "\n",
    "예를 들어, 여기서 만든 `RandomForestRegressor`를 통해 정확한 prediction에 대한 각 feature의 상대적인 중요도를 확인할 수 있다."
   ]
  },
  {
   "cell_type": "code",
   "execution_count": 11,
   "metadata": {},
   "outputs": [
    {
     "name": "stdout",
     "output_type": "stream",
     "text": [
      "[6.89758043e-02 5.95274675e-02 4.39192989e-02 1.66218187e-02\n",
      " 1.53633739e-02 1.48873346e-02 1.45469111e-02 3.71177599e-01\n",
      " 4.53109015e-02 1.10934053e-01 6.60581486e-02 8.13089887e-03\n",
      " 1.58591176e-01 9.50021229e-05 3.15092388e-03 2.70928784e-03]\n"
     ]
    }
   ],
   "source": [
    "feature_importances = grid_search.best_estimator_.feature_importances_\n",
    "print(feature_importances)"
   ]
  },
  {
   "cell_type": "markdown",
   "metadata": {},
   "source": [
    "좀더 확인하기 쉽게 각 feature의 이름과 함께 나타내보자."
   ]
  },
  {
   "cell_type": "code",
   "execution_count": 12,
   "metadata": {
    "scrolled": true
   },
   "outputs": [
    {
     "data": {
      "text/plain": [
       "[(0.371177599371965, 'median_income'),\n",
       " (0.15859117613800602, 'INLAND'),\n",
       " (0.11093405268663073, 'pop_per_hhold'),\n",
       " (0.06897580426161648, 'longitude'),\n",
       " (0.06605814861128068, 'bedrooms_per_room'),\n",
       " (0.059527467548213, 'latitude'),\n",
       " (0.04531090147964578, 'rooms_per_hhold'),\n",
       " (0.04391929893274456, 'housing_median_age'),\n",
       " (0.016621818728125223, 'total_rooms'),\n",
       " (0.015363373859565852, 'total_bedrooms'),\n",
       " (0.014887334615080117, 'population'),\n",
       " (0.014546911052898074, 'households'),\n",
       " (0.008130898868971096, '<1H OCEAN'),\n",
       " (0.003150923878604241, 'NEAR BAY'),\n",
       " (0.0027092878437575073, 'NEAR OCEAN'),\n",
       " (9.500212289567969e-05, 'ISLAND')]"
      ]
     },
     "execution_count": 12,
     "metadata": {},
     "output_type": "execute_result"
    }
   ],
   "source": [
    "extra_features = ['rooms_per_hhold', 'pop_per_hhold', 'bedrooms_per_room']\n",
    "cat_encoder = full_pipeline.named_transformers_['cat']\n",
    "cat_one_hot_features = list(cat_encoder.categories_[0])\n",
    "\n",
    "feature_names = num_features + extra_features + cat_one_hot_features\n",
    "sorted(zip(feature_importances, feature_names), reverse=True)"
   ]
  },
  {
   "cell_type": "markdown",
   "metadata": {},
   "source": [
    "위의 feature별 중요도 정보를 통해 불필요한 feature를 제거할 수도 있다."
   ]
  },
  {
   "cell_type": "markdown",
   "metadata": {},
   "source": [
    "## Evaluate Your System on the Test Set\n",
    "\n",
    "이제 최종 모델을 test set으로 평가해보자. \n",
    "\n",
    "test set 데이터를 `full_pipeline`을 통해 변환시킨 후, 최종 모델로 평가한다. 여기서 주의할 점은 `full_pipeline`의  `fit_transform()`이 아닌 `transform()`을 사용해야 한다는 점이다."
   ]
  },
  {
   "cell_type": "code",
   "execution_count": 13,
   "metadata": {},
   "outputs": [
    {
     "name": "stdout",
     "output_type": "stream",
     "text": [
      "Final RMSE: 47913.35968957618\n"
     ]
    }
   ],
   "source": [
    "from sklearn.metrics import mean_squared_error\n",
    "\n",
    "final_model = grid_search.best_estimator_\n",
    "\n",
    "X_test = strat_test_set.drop('median_house_value', axis=1)\n",
    "y_test = strat_test_set['median_house_value'].copy()\n",
    "\n",
    "X_test_prepared = full_pipeline.transform(X_test)\n",
    "\n",
    "final_predictions = final_model.predict(X_test_prepared)\n",
    "\n",
    "final_mse = mean_squared_error(y_test, final_predictions)\n",
    "final_rmse = np.sqrt(final_mse)\n",
    "print(\"Final RMSE:\", final_rmse)"
   ]
  },
  {
   "cell_type": "markdown",
   "metadata": {},
   "source": [
    "만약, estimation value만으로 모델을 확신하기 충분하지 않다면(예를 들면, 현재 운영중인 모델의 성능보다 0.1 % 더 나은 경우) 이 estimation이 얼마나 정확한지 알고 싶을 것이다.\n",
    "\n",
    "이러한 경우, `scipy.stats.t.interval()`을 통해 **confidence interval(신뢰 구간)**을 계산할 수도 있다."
   ]
  },
  {
   "cell_type": "code",
   "execution_count": 14,
   "metadata": {},
   "outputs": [
    {
     "data": {
      "text/plain": [
       "array([45914.88142021, 49831.75431041])"
      ]
     },
     "execution_count": 14,
     "metadata": {},
     "output_type": "execute_result"
    }
   ],
   "source": [
    "from scipy import stats\n",
    "# 여기서는 95%로 설정\n",
    "confidence = 0.95\n",
    "squared_errors = (final_predictions - y_test) ** 2\n",
    "np.sqrt(stats.t.interval(confidence, len(squared_errors)-1,\n",
    "                         loc=squared_errors.mean(),\n",
    "                         scale=stats.sem(squared_errors)))"
   ]
  }
 ],
 "metadata": {
  "kernelspec": {
   "display_name": "Python 3",
   "language": "python",
   "name": "python3"
  },
  "language_info": {
   "codemirror_mode": {
    "name": "ipython",
    "version": 3
   },
   "file_extension": ".py",
   "mimetype": "text/x-python",
   "name": "python",
   "nbconvert_exporter": "python",
   "pygments_lexer": "ipython3",
   "version": "3.7.6"
  }
 },
 "nbformat": 4,
 "nbformat_minor": 4
}
