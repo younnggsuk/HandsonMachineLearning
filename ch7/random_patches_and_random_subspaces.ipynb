{
 "cells": [
  {
   "cell_type": "markdown",
   "metadata": {},
   "source": [
    "# 랜덤 패치와 랜덤 서브스페이스\n",
    "\n",
    "### 랜덤 패치 (Random Patches Method)\n",
    "랜덤 패치 방식은 훈련 샘플과 feature를 모두 샘플링 하는 것을 의미한다.\n",
    "\n",
    "### 랜덤 서브스페이스 방식(Random Subspaces Method)\n",
    "랜덤 서브스페이스 방식은 훈련 샘플을 모두 사용하고, feature를 샘플링 하는 것을 의미한다."
   ]
  }
 ],
 "metadata": {
  "kernelspec": {
   "display_name": "Python 3",
   "language": "python",
   "name": "python3"
  },
  "language_info": {
   "codemirror_mode": {
    "name": "ipython",
    "version": 3
   },
   "file_extension": ".py",
   "mimetype": "text/x-python",
   "name": "python",
   "nbconvert_exporter": "python",
   "pygments_lexer": "ipython3",
   "version": "3.7.6"
  }
 },
 "nbformat": 4,
 "nbformat_minor": 4
}
