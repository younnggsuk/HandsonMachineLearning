{
 "cells": [
  {
   "cell_type": "markdown",
   "metadata": {},
   "source": [
    "# 랜덤 포레스트\n",
    "\n",
    "랜덤 포레스트는 일반적으로 **배깅(또는 페이스팅)방법을 적용한 Decision Tree의 앙상블**이다.\n",
    "\n",
    "랜덤 포레스트 알고리즘은 트리의 각 노드를 분할할 때, 전체 feature중에서 최선을 찾는 것이 아니라 **무작위로 선택한 subset에서 최선의 feature를 찾는 방식**으로 무작위성을 더욱 주입한다.\n",
    "\n",
    "이는 트리를 더욱 다양하게 만들어주고, **편향이 증가하지만 분산을 낮추는 효과**를 가져오므로 더 훌륭한 모델을 만들게 된다.\n",
    "\n",
    "사이킷런에서는 `RandomForestClassifier`(또는 `RandomForestRegressor`)를 사용하면 구현할 수 있으며, 훈련세트의 크기는 `max_samples`로 지정할 수 있다."
   ]
  },
  {
   "cell_type": "code",
   "execution_count": 1,
   "metadata": {},
   "outputs": [],
   "source": [
    "from sklearn.model_selection import train_test_split\n",
    "from sklearn.datasets import make_moons\n",
    "\n",
    "X, y = make_moons(n_samples=500, noise=0.30, random_state=42)\n",
    "X_train, X_test, y_train, y_test = train_test_split(X, y, random_state=42)"
   ]
  },
  {
   "cell_type": "code",
   "execution_count": 2,
   "metadata": {},
   "outputs": [],
   "source": [
    "# 랜덤 포레스트 예측기 훈련\n",
    "from sklearn.ensemble import RandomForestClassifier\n",
    "\n",
    "rnd_clf = RandomForestClassifier(n_estimators=500,\n",
    "                                 max_leaf_nodes=16,\n",
    "                                 n_jobs=-1,\n",
    "                                 random_state=42)\n",
    "\n",
    "rnd_clf.fit(X_train, y_train)\n",
    "y_pred_rf = rnd_clf.predict(X_test)"
   ]
  },
  {
   "cell_type": "code",
   "execution_count": 3,
   "metadata": {},
   "outputs": [],
   "source": [
    "# BaggingClassifier로 위의 랜덤포레스트와 유사하게 훈련\n",
    "from sklearn.ensemble import BaggingClassifier\n",
    "from sklearn.tree import DecisionTreeClassifier\n",
    "\n",
    "bag_clf = BaggingClassifier(\n",
    "    DecisionTreeClassifier(max_features=\"auto\", max_leaf_nodes=16, random_state=42),\n",
    "    n_estimators=500, max_samples=1.0, bootstrap=True, n_jobs=-1\n",
    ")\n",
    "\n",
    "bag_clf.fit(X_train, y_train)\n",
    "y_pred_bf = bag_clf.predict(X_test)"
   ]
  },
  {
   "cell_type": "code",
   "execution_count": 4,
   "metadata": {},
   "outputs": [
    {
     "name": "stdout",
     "output_type": "stream",
     "text": [
      "0.912\n",
      "0.912\n"
     ]
    }
   ],
   "source": [
    "# 두 결과 비교\n",
    "from sklearn.metrics import accuracy_score\n",
    "\n",
    "print(accuracy_score(y_pred_rf, y_test))\n",
    "print(accuracy_score(y_pred_bf, y_test))"
   ]
  },
  {
   "cell_type": "markdown",
   "metadata": {},
   "source": [
    "## 엑스트라 트리\n",
    "\n",
    "랜덤 포레스트에서 트리를 더욱 무작위하게 만들기 위해, **각 feature에 대한 최선의 임계값 대신 무작위 임계값**을 사용할 수 있다. 이와 같이 극단적으로 무작위한 트리의 랜덤 포레스트를 익스트림 랜덤 트리(extremely randomized tree)앙상블 또는 엑스트라 트리(extra-tree)라고 한다.\n",
    "\n",
    "엑스트라 트리는 랜덤포레스트와 마찬가지로 **편향이 늘어나지만 분산을 낮추는 효과**가 있다. 또한, 최적의 임계값을 찾는 것은 시간이 많이 소요되는 작업이므로, 엑스트라 트리가 일반적인 랜덤포레스트보다 **더욱 속도가 빠르다.** (실제로는 두 모델을 시도해보고 검증을 통해 비교해보는것이 좋음)\n",
    "\n",
    "사이킷런에서는 `ExtraTreesClassifier`와 `ExtraTreesRegressor`를 사용한다.(단일 트리에 사용할 경우, `ExtraTreeClassifier`와 `ExtraTreeRegressor`)\n",
    "\n",
    "이는 `RandomForestClassifier`와 `RandomForestRegressor`와 같은 API를 제공한다."
   ]
  },
  {
   "cell_type": "markdown",
   "metadata": {},
   "source": [
    "## 특성 중요도 (Feature Importance)\n",
    "\n",
    "랜덤 포레스트는 feature들의 상대적 중요도를 측정할 수 있다는 장점이 있다.\n",
    "\n",
    "트리의 root에 가깝게 위치할수록 중요한 feature인 경향이 있으므로, 랜덤 포레스트의 모든 트리에 걸친 average depth를 통해 feature의 중요도를 계산할 수 있다.\n",
    "\n",
    "사이킷런은 훈련이 끝난 뒤, feature의 중요도를 측정하고, 전체 합이 1이 되도록 스케일링한 결과를 제공한다."
   ]
  },
  {
   "cell_type": "code",
   "execution_count": 5,
   "metadata": {},
   "outputs": [
    {
     "name": "stdout",
     "output_type": "stream",
     "text": [
      "sepal length (cm) 0.10283960515821881\n",
      "sepal width (cm) 0.02441339350381113\n",
      "petal length (cm) 0.4073544917567797\n",
      "petal width (cm) 0.4653925095811902\n"
     ]
    }
   ],
   "source": [
    "from sklearn.datasets import load_iris\n",
    "\n",
    "iris = load_iris()\n",
    "rnd_clf = RandomForestClassifier(n_estimators=500, n_jobs=-1)\n",
    "rnd_clf.fit(iris[\"data\"], iris[\"target\"])\n",
    "for name, score in zip(iris[\"feature_names\"], rnd_clf.feature_importances_):\n",
    "    print(name, score)"
   ]
  },
  {
   "cell_type": "markdown",
   "metadata": {},
   "source": [
    "MNIST에서 각 픽셀의 중요도를 그리면 다음과 같다."
   ]
  },
  {
   "cell_type": "code",
   "execution_count": 6,
   "metadata": {},
   "outputs": [],
   "source": [
    "import os\n",
    "import numpy as np\n",
    "from sklearn.datasets import fetch_openml\n",
    "\n",
    "dataset_root = os.path.join(os.getcwd(), 'datasets')\n",
    "if not os.path.isdir(dataset_root):\n",
    "    os.mkdir(dataset_root)\n",
    "    \n",
    "mnist = fetch_openml('mnist_784', version=1, data_home=dataset_root)\n",
    "mnist.target = mnist.target.astype(np.uint8)"
   ]
  },
  {
   "cell_type": "code",
   "execution_count": 7,
   "metadata": {},
   "outputs": [
    {
     "data": {
      "text/plain": [
       "RandomForestClassifier(bootstrap=True, ccp_alpha=0.0, class_weight=None,\n",
       "                       criterion='gini', max_depth=None, max_features='auto',\n",
       "                       max_leaf_nodes=None, max_samples=None,\n",
       "                       min_impurity_decrease=0.0, min_impurity_split=None,\n",
       "                       min_samples_leaf=1, min_samples_split=2,\n",
       "                       min_weight_fraction_leaf=0.0, n_estimators=100,\n",
       "                       n_jobs=None, oob_score=False, random_state=42, verbose=0,\n",
       "                       warm_start=False)"
      ]
     },
     "execution_count": 7,
     "metadata": {},
     "output_type": "execute_result"
    }
   ],
   "source": [
    "rnd_clf = RandomForestClassifier(n_estimators=100, random_state=42)\n",
    "rnd_clf.fit(mnist[\"data\"], mnist[\"target\"])"
   ]
  },
  {
   "cell_type": "code",
   "execution_count": 8,
   "metadata": {},
   "outputs": [],
   "source": [
    "def plot_digit(data):\n",
    "    image = data.reshape(28, 28)\n",
    "    plt.imshow(image, cmap = mpl.cm.hot,\n",
    "               interpolation=\"nearest\")\n",
    "    plt.axis(\"off\")"
   ]
  },
  {
   "cell_type": "code",
   "execution_count": 9,
   "metadata": {},
   "outputs": [
    {
     "data": {
      "image/png": "[encoded data removed]",
      "text/plain": [
       "<Figure size 432x288 with 2 Axes>"
      ]
     },
     "metadata": {
      "needs_background": "light"
     },
     "output_type": "display_data"
    }
   ],
   "source": [
    "import matplotlib as mpl\n",
    "import matplotlib.pyplot as plt\n",
    "\n",
    "plot_digit(rnd_clf.feature_importances_)\n",
    "\n",
    "cbar = plt.colorbar(ticks=[rnd_clf.feature_importances_.min(), rnd_clf.feature_importances_.max()])\n",
    "cbar.ax.set_yticklabels(['Not important', 'Very important'])\n",
    "\n",
    "plt.show()"
   ]
  }
 ],
 "metadata": {
  "kernelspec": {
   "display_name": "Python 3",
   "language": "python",
   "name": "python3"
  },
  "language_info": {
   "codemirror_mode": {
    "name": "ipython",
    "version": 3
   },
   "file_extension": ".py",
   "mimetype": "text/x-python",
   "name": "python",
   "nbconvert_exporter": "python",
   "pygments_lexer": "ipython3",
   "version": "3.7.6"
  }
 },
 "nbformat": 4,
 "nbformat_minor": 4
}
