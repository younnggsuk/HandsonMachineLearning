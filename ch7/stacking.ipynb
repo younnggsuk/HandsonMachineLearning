{
 "cells": [
  {
   "cell_type": "markdown",
   "metadata": {},
   "source": [
    "# Stacking\n",
    "\n",
    "Stacking은 stacked generalization의 줄임말로써, **앙상블에 속한 모든 예측기의 에측을 취합하는 모델**을 훈련시키는 방법이다. 여기서 마지막의 예측을 취합하는 모델(예측기)를 blender 또는 meta learner라고 한다.\n",
    "\n",
    "<img src=\"./images/stacking.png\" alt=\"stacking\" width=\"70%\">"
   ]
  },
  {
   "cell_type": "markdown",
   "metadata": {},
   "source": [
    "### Blender의 학습\n",
    "\n",
    "Blender를 학습시키는 일반적인 방법은 hold-out set을 사용하는 것이다.\n",
    "\n",
    "2개의 층으로 구성된 경우의 구체적인 훈련 순서는 다음과 같다.\n",
    "1. Training set을 2개의 subset으로 나눈다.\n",
    "2. 1번째 subset으로 1번째 layer의 예측기를 훈련시킨다.\n",
    "3. 1번째 layer의 예측기로 2번째 subset에 대한 예측을 만든다.\n",
    "4. 1번째 layer의 출력(3에서의 예측)을 입력으로 해서 2번째 layer의 blender(최종)를 훈련시킨다.\n",
    "\n",
    "<img src=\"./images/training_blender.png\" alt=\"training_blender\" width=\"70%\">"
   ]
  },
  {
   "cell_type": "markdown",
   "metadata": {},
   "source": [
    "hold-out set을 더 분리하면, 같은 방법으로 여러 층의 블렌더를 훈련시킬 수도 있다.\n",
    "\n",
    "3개의 층으로 구성된 경우의 구체적인 훈련 순서는 다음과 같다.\n",
    "1. Training set을 3개의 subset으로 나눈다.\n",
    "2. 1번째 subset으로 1번째 layer의 예측기를 훈련시킨다.\n",
    "3. 1번째 layer의 예측기로 2번째 subset에 대한 예측을 만든다.\n",
    "4. 1번째 layer의 출력(3에서의 예측)을 입력으로 해서 2번째 layer의 blender를 훈련시킨다.\n",
    "5. 2번째 layer의 blender로 3번째 subset에 대한 예측을 만든다.\n",
    "6. 2번째 layer의 출력(5에서의 예측)을 입력으로 해서 3번째 layer의 blender(최종)를 훈련시킨다.\n",
    "\n",
    "<img src=\"./images/training_blender_2.png\" alt=\"training_blender_2\" width=\"70%\">"
   ]
  },
  {
   "cell_type": "markdown",
   "metadata": {},
   "source": [
    "정리하자면, 다음을 반복하는 것과 같다.\n",
    "1. n번째 subset은 n번째 layer를 훈련시키는데 사용된다.\n",
    "2. n번째 layer는 n+1번째 subset에 대한 예측을 만들고, n+1번째 layer의 훈련에 사용된다."
   ]
  },
  {
   "cell_type": "markdown",
   "metadata": {},
   "source": [
    "사이킷런에서는 stacking을 지원하지 않으므로, 직접 구현하거나 DESlib와 같은 오픈소스 구현을 사용할 수도 있다."
   ]
  }
 ],
 "metadata": {
  "kernelspec": {
   "display_name": "Python 3",
   "language": "python",
   "name": "python3"
  },
  "language_info": {
   "codemirror_mode": {
    "name": "ipython",
    "version": 3
   },
   "file_extension": ".py",
   "mimetype": "text/x-python",
   "name": "python",
   "nbconvert_exporter": "python",
   "pygments_lexer": "ipython3",
   "version": "3.7.6"
  }
 },
 "nbformat": 4,
 "nbformat_minor": 4
}
